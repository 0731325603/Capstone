{
  "nbformat": 4,
  "nbformat_minor": 0,
  "metadata": {
    "kernelspec": {
      "display_name": "Python 3",
      "language": "python",
      "name": "python3"
    },
    "language_info": {
      "codemirror_mode": {
        "name": "ipython",
        "version": 3
      },
      "file_extension": ".py",
      "mimetype": "text/x-python",
      "name": "python",
      "nbconvert_exporter": "python",
      "pygments_lexer": "ipython3",
      "version": "3.7.4"
    },
    "colab": {
      "name": "3_Improving_a_Logistic_Regression_Model.ipynb",
      "provenance": [],
      "include_colab_link": true
    }
  },
  "cells": [
    {
      "cell_type": "markdown",
      "metadata": {
        "id": "view-in-github",
        "colab_type": "text"
      },
      "source": [
        "<a href=\"https://colab.research.google.com/github/0731325603/Capstone/blob/master/3_Improving_a_Logistic_Regression_Model.ipynb\" target=\"_parent\"><img src=\"https://colab.research.google.com/assets/colab-badge.svg\" alt=\"Open In Colab\"/></a>"
      ]
    },
    {
      "cell_type": "markdown",
      "metadata": {
        "id": "WC7DUZAyUpwT",
        "colab_type": "text"
      },
      "source": [
        "# Improving a Logistic Regression Model\n",
        "\n",
        "© Explore Data Science Academy"
      ]
    },
    {
      "cell_type": "markdown",
      "metadata": {
        "id": "OLqmYXG9UpwU",
        "colab_type": "text"
      },
      "source": [
        "## Learning Objectives\n",
        "\n",
        "- Understand feature subset selection as a general approach to model improvement;\n",
        "- Introduction to hyperparameter tuning;\n",
        "- Understand how to tune the logistic regression model hyperparameter."
      ]
    },
    {
      "cell_type": "markdown",
      "metadata": {
        "id": "Z-PUZVjIUpwV",
        "colab_type": "text"
      },
      "source": [
        "## Outline\n",
        "\n",
        "In the course of this tutorial, we will:\n",
        "\n",
        "1. Rebuild our Wisconsin Breast Cancer classifier;\n",
        "2. Use feature subset selection to create a sparse model;\n",
        "3. Tune the logistic regression model hyperparameter."
      ]
    },
    {
      "cell_type": "markdown",
      "metadata": {
        "id": "OnNYWAs_UpwV",
        "colab_type": "text"
      },
      "source": [
        "## 1. Rebuilding the Breast Cancer Classifier\n",
        "\n",
        "Following on from the last tutorial, we'll load the breast cancer dataset (30 features - all continuous, one binary response - 0: malignant and 1: benign)."
      ]
    },
    {
      "cell_type": "code",
      "metadata": {
        "id": "rypEIrKUUpwW",
        "colab_type": "code",
        "colab": {}
      },
      "source": [
        "import numpy as np\n",
        "import pandas as pd\n",
        "import matplotlib.pyplot as plt\n",
        "%matplotlib inline\n",
        "\n",
        "# Import dataset\n",
        "from sklearn.datasets import load_breast_cancer\n",
        "\n",
        "# For precision, recall, etc.\n",
        "from sklearn.metrics import classification_report"
      ],
      "execution_count": 0,
      "outputs": []
    },
    {
      "cell_type": "code",
      "metadata": {
        "id": "o7wW4EdeUpwZ",
        "colab_type": "code",
        "colab": {}
      },
      "source": [
        "X, y = load_breast_cancer(return_X_y=True)"
      ],
      "execution_count": 0,
      "outputs": []
    },
    {
      "cell_type": "markdown",
      "metadata": {
        "id": "fQyQWzO4Upwb",
        "colab_type": "text"
      },
      "source": [
        "It might be helpful to get into the habit of scaling your data during preprocessing for all machine learning tasks. Remember: _scaling_ puts all your features into the same range."
      ]
    },
    {
      "cell_type": "code",
      "metadata": {
        "id": "NXQjL1YjUpwc",
        "colab_type": "code",
        "colab": {}
      },
      "source": [
        "# Import the scaler module\n",
        "from sklearn import preprocessing\n",
        "scaler = preprocessing.MinMaxScaler()\n",
        "\n",
        "# Scale data\n",
        "X_scaled = scaler.fit_transform(X)"
      ],
      "execution_count": 0,
      "outputs": []
    },
    {
      "cell_type": "code",
      "metadata": {
        "id": "4IMV9FCRUpwf",
        "colab_type": "code",
        "colab": {}
      },
      "source": [
        "from sklearn.model_selection import train_test_split\n",
        "\n",
        "# Split into train and test\n",
        "X_train, X_test, y_train, y_test = train_test_split(X_scaled, y, test_size=0.2, random_state=10)"
      ],
      "execution_count": 0,
      "outputs": []
    },
    {
      "cell_type": "code",
      "metadata": {
        "id": "8Q0-9mpWUpwj",
        "colab_type": "code",
        "colab": {}
      },
      "source": [
        "from sklearn.linear_model import LogisticRegression"
      ],
      "execution_count": 0,
      "outputs": []
    },
    {
      "cell_type": "markdown",
      "metadata": {
        "id": "SjbiUG_oUpwn",
        "colab_type": "text"
      },
      "source": [
        "## 2. Using Feature Subset Selection to Create a Sparse Model\n",
        "\n",
        "In general, given a particular model and a dataset, there are two categories of changes we can make to try and improve the model once it has been trained with default parameters:\n",
        "\n",
        "1. We can change/reduce which features the model was trained on; and/or\n",
        "2. We can tweak what are known as model hyperparameters.\n",
        "\n",
        "For both methods, the benchmark performance metrics we will use (within classification tasks) are precision, recall, and f1-score. In other words, after making our changes, we will compare the results for each of those metrics to the default model to determine if an improvement has been made.\n",
        "\n",
        "We'll start with the first method, and change which features the model is trained on. Assuming the default model was trained using all the features, any change we undertake will invariably reduce the number of features we use. A model trained using some subset of all the available features is known as a _sparse model_.\n",
        "\n",
        "We'll create four models to compare. In so doing, we'll cover some of the feature subset selection methods available for classification that you may be able to use in the course and your career going forward:\n",
        "\n",
        "1. Full model - using all features (reference model);\n",
        "2. Variance thresholding;\n",
        "3. Select K-best features;\n",
        "4. Sequential forward selection."
      ]
    },
    {
      "cell_type": "markdown",
      "metadata": {
        "id": "1sDAN2InUpwp",
        "colab_type": "text"
      },
      "source": [
        "An important note here: always split your dataset into train/test folds _before_ performing feature selection. This prevents what is known as data leakage, where some of the 'unseen' data is exposed to the model during the training process, which would in turn inflate its test set accuracy later on. Take a quick read through the [tweet below](https://twitter.com/jmschreiber91/status/1137464236156702720?s=20) for some more context.\n",
        "\n",
        "<img src=\"https://raw.githubusercontent.com/Explore-AI/Pictures/master/split-tweet.jpg\" alt=\"train/test split ordering tweet\" width=\"400px;\">"
      ]
    },
    {
      "cell_type": "markdown",
      "metadata": {
        "id": "1WLAoh4OUpwp",
        "colab_type": "text"
      },
      "source": [
        "For each method, we'll perform the feature selection on both the train and test sets - ensuring the model is tested on data with the same features it was trained on."
      ]
    },
    {
      "cell_type": "markdown",
      "metadata": {
        "id": "ieEIj2i0Upwq",
        "colab_type": "text"
      },
      "source": [
        "### 1. Full Model (No Selection)\n",
        "\n",
        "In order to have a reference model, we'll build a logistic regression classifier using all the features."
      ]
    },
    {
      "cell_type": "code",
      "metadata": {
        "id": "s0_G_YkpUpwr",
        "colab_type": "code",
        "colab": {}
      },
      "source": [
        "lm_full = LogisticRegression()"
      ],
      "execution_count": 0,
      "outputs": []
    },
    {
      "cell_type": "markdown",
      "metadata": {
        "id": "chBwa5pqUpwv",
        "colab_type": "text"
      },
      "source": [
        "We'll need to standardise our features here to ensure the model is able to converge."
      ]
    },
    {
      "cell_type": "code",
      "metadata": {
        "id": "qDzNxyTRUpww",
        "colab_type": "code",
        "colab": {},
        "outputId": "6281ffbb-0b5a-43f2-cee6-96d750d9426a"
      },
      "source": [
        "# No transformations necessary\n",
        "lm_full.fit(X_train, y_train)"
      ],
      "execution_count": 0,
      "outputs": [
        {
          "output_type": "execute_result",
          "data": {
            "text/plain": [
              "LogisticRegression(C=1.0, class_weight=None, dual=False, fit_intercept=True,\n",
              "                   intercept_scaling=1, l1_ratio=None, max_iter=100,\n",
              "                   multi_class='auto', n_jobs=None, penalty='l2',\n",
              "                   random_state=None, solver='lbfgs', tol=0.0001, verbose=0,\n",
              "                   warm_start=False)"
            ]
          },
          "metadata": {
            "tags": []
          },
          "execution_count": 40
        }
      ]
    },
    {
      "cell_type": "code",
      "metadata": {
        "id": "VO9konvLUpw1",
        "colab_type": "code",
        "colab": {}
      },
      "source": [
        "# Generate predictions from full model\n",
        "pred_lm_full = lm_full.predict(X_test)"
      ],
      "execution_count": 0,
      "outputs": []
    },
    {
      "cell_type": "markdown",
      "metadata": {
        "id": "6urvx5nOUpw3",
        "colab_type": "text"
      },
      "source": [
        "### 2. Selection by Variance Thresholding\n",
        "\n",
        "As you may recall, variance thresholding is a process by which we remove features which don't meet some minimum level of variance."
      ]
    },
    {
      "cell_type": "markdown",
      "metadata": {
        "id": "PxFtpcJAUpw3",
        "colab_type": "text"
      },
      "source": [
        "<img src=\"https://raw.githubusercontent.com/Explore-AI/Pictures/master/sketch-var-thresh.png\" alt=\"sketch-var-thresh\" width=\"500px;\"/>"
      ]
    },
    {
      "cell_type": "code",
      "metadata": {
        "id": "8JmoiktFUpw3",
        "colab_type": "code",
        "colab": {}
      },
      "source": [
        "# lm instance for var thresh\n",
        "lm_vt = LogisticRegression()"
      ],
      "execution_count": 0,
      "outputs": []
    },
    {
      "cell_type": "markdown",
      "metadata": {
        "id": "JTrCpYlTUpw6",
        "colab_type": "text"
      },
      "source": [
        "When we apply the transformation (i.e.: run feature selection) on the training set, we are fitting the transformation: `fit_transform(train_data)`. In order to apply the same transformation to the test set, we only need to transform it, not fit it: `transform(test_data)`."
      ]
    },
    {
      "cell_type": "code",
      "metadata": {
        "id": "3o89qdJ_Upw6",
        "colab_type": "code",
        "colab": {}
      },
      "source": [
        "# Import the var thresh model and choose a threshold\n",
        "from sklearn.feature_selection import VarianceThreshold\n",
        "selector = VarianceThreshold(threshold=0.02)\n",
        "\n",
        "# Transform (i.e.: run selection on) the training data\n",
        "X_train_vt = selector.fit_transform(X_train)"
      ],
      "execution_count": 0,
      "outputs": []
    },
    {
      "cell_type": "code",
      "metadata": {
        "id": "lxxIM6CBUpw8",
        "colab_type": "code",
        "colab": {},
        "outputId": "5c80a17e-38e3-4c81-dc4b-07a96e86ad1f"
      },
      "source": [
        "X_train_vt.shape"
      ],
      "execution_count": 0,
      "outputs": [
        {
          "output_type": "execute_result",
          "data": {
            "text/plain": [
              "(455, 15)"
            ]
          },
          "metadata": {
            "tags": []
          },
          "execution_count": 63
        }
      ]
    },
    {
      "cell_type": "markdown",
      "metadata": {
        "id": "oqw-7waaUpw-",
        "colab_type": "text"
      },
      "source": [
        "Using a variance threshold of 0.02, we have managed to trim the number of features in the training dataset from 30 down to 15."
      ]
    },
    {
      "cell_type": "code",
      "metadata": {
        "id": "Qgv2baprUpw_",
        "colab_type": "code",
        "colab": {},
        "outputId": "d67666de-76ec-412d-b02d-76b73aa9cec5"
      },
      "source": [
        "# Fit model to the transformed data\n",
        "lm_vt.fit(X_train_vt, y_train)"
      ],
      "execution_count": 0,
      "outputs": [
        {
          "output_type": "execute_result",
          "data": {
            "text/plain": [
              "LogisticRegression(C=1.0, class_weight=None, dual=False, fit_intercept=True,\n",
              "                   intercept_scaling=1, l1_ratio=None, max_iter=100,\n",
              "                   multi_class='auto', n_jobs=None, penalty='l2',\n",
              "                   random_state=None, solver='lbfgs', tol=0.0001, verbose=0,\n",
              "                   warm_start=False)"
            ]
          },
          "metadata": {
            "tags": []
          },
          "execution_count": 64
        }
      ]
    },
    {
      "cell_type": "code",
      "metadata": {
        "id": "rT6RHFplUpxC",
        "colab_type": "code",
        "colab": {}
      },
      "source": [
        "# Now we'll need to remove the same features we did in the thresholding process\n",
        "X_test_vt = selector.transform(X_test)\n",
        "\n",
        "# Generate predictions from var thresh model\n",
        "pred_lm_vt = lm_vt.predict(X_test_vt)"
      ],
      "execution_count": 0,
      "outputs": []
    },
    {
      "cell_type": "markdown",
      "metadata": {
        "id": "yHbfKBm5UpxE",
        "colab_type": "text"
      },
      "source": [
        "### 3. Selection by Choosing K-Best Features\n",
        "\n",
        "`SelectKBest` is a feature selection module in `sklearn` which removes all but the _k_ highest scoring features according to some specified statistical test. In this case, we'll use `f_classif` as the test, which we specify in the `score_func` argument in the `SelectKBest` method.\n",
        "\n",
        "`f_classif` computes the ANOVA f-value between each label and feature - read up [more on it here](https://www.statisticshowto.com/probability-and-statistics/f-statistic-value-test/)."
      ]
    },
    {
      "cell_type": "markdown",
      "metadata": {
        "id": "dHh-C66wUpxF",
        "colab_type": "text"
      },
      "source": [
        "<img src=\"https://raw.githubusercontent.com/Explore-AI/Pictures/master/sketch-kbest.png\" alt=\"sketch-kbest\" width=\"600px;\"/>"
      ]
    },
    {
      "cell_type": "code",
      "metadata": {
        "id": "twEvQllkUpxF",
        "colab_type": "code",
        "colab": {}
      },
      "source": [
        "# lm instance for k-best\n",
        "lm_kbest = LogisticRegression()"
      ],
      "execution_count": 0,
      "outputs": []
    },
    {
      "cell_type": "code",
      "metadata": {
        "id": "TBETiZItUpxH",
        "colab_type": "code",
        "colab": {}
      },
      "source": [
        "# Import the feature selector module\n",
        "from sklearn import feature_selection\n",
        "from sklearn.feature_selection import f_classif\n",
        "\n",
        "# Set up selector, choosing score function and number of features to retain\n",
        "selector_kbest = feature_selection.SelectKBest(score_func=f_classif, k=20)\n",
        "\n",
        "# Transform (i.e.: run selection on) the training data\n",
        "X_train_kbest = selector_kbest.fit_transform(X_train, y_train)"
      ],
      "execution_count": 0,
      "outputs": []
    },
    {
      "cell_type": "code",
      "metadata": {
        "id": "KaDvHIIjUpxK",
        "colab_type": "code",
        "colab": {},
        "outputId": "18fc98e7-6370-4ab0-dbe3-d6febd02c212"
      },
      "source": [
        "X_train_kbest.shape"
      ],
      "execution_count": 0,
      "outputs": [
        {
          "output_type": "execute_result",
          "data": {
            "text/plain": [
              "(455, 20)"
            ]
          },
          "metadata": {
            "tags": []
          },
          "execution_count": 9
        }
      ]
    },
    {
      "cell_type": "code",
      "metadata": {
        "id": "FglvAb-yUpxM",
        "colab_type": "code",
        "colab": {},
        "outputId": "bbb79d0b-ca1b-4926-e039-fbc19d697c54"
      },
      "source": [
        "# Fit model to the transformed data\n",
        "lm_kbest.fit(X_train_kbest, y_train)"
      ],
      "execution_count": 0,
      "outputs": [
        {
          "output_type": "execute_result",
          "data": {
            "text/plain": [
              "LogisticRegression(C=1.0, class_weight=None, dual=False, fit_intercept=True,\n",
              "                   intercept_scaling=1, l1_ratio=None, max_iter=100,\n",
              "                   multi_class='auto', n_jobs=None, penalty='l2',\n",
              "                   random_state=None, solver='lbfgs', tol=0.0001, verbose=0,\n",
              "                   warm_start=False)"
            ]
          },
          "metadata": {
            "tags": []
          },
          "execution_count": 10
        }
      ]
    },
    {
      "cell_type": "code",
      "metadata": {
        "id": "qF3yQp7uUpxO",
        "colab_type": "code",
        "colab": {}
      },
      "source": [
        "# Before generating predictions, we'll need to transform the test data the same way we did the train data\n",
        "X_test_kbest = selector_kbest.transform(X_test)\n",
        "\n",
        "# Generate predictions from var thresh model\n",
        "pred_lm_kbest = lm_kbest.predict(X_test_kbest)"
      ],
      "execution_count": 0,
      "outputs": []
    },
    {
      "cell_type": "markdown",
      "metadata": {
        "id": "gM8jFjOVUpxQ",
        "colab_type": "text"
      },
      "source": [
        "### 4. Selection Using Sequential Forward Selection\n",
        "\n",
        "In this process, we iteratively fit the logistic regression classifier to our dataset, where our dataset starts with one feature, and adds one feature per iteration. For each iteration, k-fold cross-validation is used to compute the performance of the classifier. Thereafter, we can determine which number of features resulted in the optimal performance.\n",
        "\n",
        "We'll be using the `SequentialFeatureSelector` from a library known as `mlxtend`. Be sure to `pip install mlxtend` before you run the code below. We'll also be using f-score to compute the performance of each fitted model."
      ]
    },
    {
      "cell_type": "markdown",
      "metadata": {
        "id": "LbKbIYlkUpxR",
        "colab_type": "text"
      },
      "source": [
        "<img src=\"https://raw.githubusercontent.com/Explore-AI/Pictures/master/sketch-sfs.png\" alt=\"sketch-sfs\" width=\"700px;\">"
      ]
    },
    {
      "cell_type": "code",
      "metadata": {
        "id": "_-3fXIIuUpxR",
        "colab_type": "code",
        "colab": {}
      },
      "source": [
        "# We begin by declaring the classifier we wish to use\n",
        "lm_sfs = LogisticRegression()"
      ],
      "execution_count": 0,
      "outputs": []
    },
    {
      "cell_type": "code",
      "metadata": {
        "id": "Gra-l8sPUpxT",
        "colab_type": "code",
        "colab": {}
      },
      "source": [
        "# Import the selector module, and the accuracy_score module to computer performance\n",
        "from sklearn.metrics import f1_score\n",
        "from mlxtend.feature_selection import SequentialFeatureSelector as sfs"
      ],
      "execution_count": 0,
      "outputs": []
    },
    {
      "cell_type": "markdown",
      "metadata": {
        "id": "6VikPVYQUpxV",
        "colab_type": "text"
      },
      "source": [
        "Take note of the arguments we pass to the SequentialFeatureSelector instance:\n",
        "\n",
        "- `lm_sfs` is the classifier we want it to use to fit to the data;\n",
        "- `k-features`is the maximum number of features we want to end up with. We set it higher rather than lower - in case the optimal number of features is higher than we may have thought;\n",
        "- `forward=True` sets the selector to use forward, as opposed to backward, selection;\n",
        "- `scoring='f1'` ensures performance is measured using an appropriate metric: here, f1-score;\n",
        "- `cv=10` means validation will be performed using k-fold cross validation, with k=10."
      ]
    },
    {
      "cell_type": "code",
      "metadata": {
        "id": "Nf1sfZmNUpxV",
        "colab_type": "code",
        "colab": {}
      },
      "source": [
        "# We then build our forward feature selector\n",
        "sfs = sfs(lm_sfs, k_features=10, forward=True, scoring='f1', cv=10)"
      ],
      "execution_count": 0,
      "outputs": []
    },
    {
      "cell_type": "markdown",
      "metadata": {
        "id": "Co8uxwScUpxY",
        "colab_type": "text"
      },
      "source": [
        "The code cell below takes about a minute to execute."
      ]
    },
    {
      "cell_type": "code",
      "metadata": {
        "id": "rSnQNmdJUpxY",
        "colab_type": "code",
        "colab": {}
      },
      "source": [
        "sfs = sfs.fit(X_train, y_train)"
      ],
      "execution_count": 0,
      "outputs": []
    },
    {
      "cell_type": "code",
      "metadata": {
        "id": "T4CDIP5iUpxa",
        "colab_type": "code",
        "colab": {},
        "outputId": "acf80130-0bd7-49d7-e376-a3de056c29c1"
      },
      "source": [
        "# Plot the results\n",
        "from mlxtend.plotting import plot_sequential_feature_selection as plot_sfs\n",
        "\n",
        "fig1 = plot_sfs(sfs.get_metric_dict(), kind='std_dev')\n",
        "\n",
        "plt.ylim([0.9, 1])\n",
        "plt.title('Sequential Forward Selection (w. StdDev)')\n",
        "plt.grid()\n",
        "plt.show()"
      ],
      "execution_count": 0,
      "outputs": [
        {
          "output_type": "display_data",
          "data": {
            "image/png": "[encoded data removed]",
            "text/plain": [
              "<Figure size 432x288 with 1 Axes>"
            ]
          },
          "metadata": {
            "tags": [],
            "needs_background": "light"
          }
        }
      ]
    },
    {
      "cell_type": "markdown",
      "metadata": {
        "id": "E1i6fxLdUpxc",
        "colab_type": "text"
      },
      "source": [
        "Plotting the results we can see that performance begins to drop off after the 21st feature is added. Let's lock in those 21 features and use them to train our classifier. To be clear, these are not necessarily the first 21 features, but the 21 features which, when combined, produce optimal performance."
      ]
    },
    {
      "cell_type": "code",
      "metadata": {
        "id": "FSPWsZ0tUpxc",
        "colab_type": "code",
        "colab": {}
      },
      "source": [
        "# Extract the feature names for the optimal number using the dictionary provided by the subsets_ method\n",
        "columns = list(sfs.subsets_[30]['feature_idx'])"
      ],
      "execution_count": 0,
      "outputs": []
    },
    {
      "cell_type": "markdown",
      "metadata": {
        "id": "sAeg-KJcUpxe",
        "colab_type": "text"
      },
      "source": [
        "Having determined which number of features was best, we'll select those specific features and train the model using only them. Remember we need to select the features for both train _and_ test sets."
      ]
    },
    {
      "cell_type": "code",
      "metadata": {
        "id": "kQEhse-KUpxe",
        "colab_type": "code",
        "colab": {}
      },
      "source": [
        "X_train_sfs = X_train[:, columns]\n",
        "X_test_sfs = X_test[:, columns]"
      ],
      "execution_count": 0,
      "outputs": []
    },
    {
      "cell_type": "code",
      "metadata": {
        "id": "5eGd9IbNUpxg",
        "colab_type": "code",
        "colab": {},
        "outputId": "d49429c8-9cc4-46ef-be9e-255fe11d5ce2"
      },
      "source": [
        "X_train_sfs.shape"
      ],
      "execution_count": 0,
      "outputs": [
        {
          "output_type": "execute_result",
          "data": {
            "text/plain": [
              "(455, 5)"
            ]
          },
          "metadata": {
            "tags": []
          },
          "execution_count": 79
        }
      ]
    },
    {
      "cell_type": "markdown",
      "metadata": {
        "id": "YfJWHQoTUpxj",
        "colab_type": "text"
      },
      "source": [
        "Now we can train the model on this reduced training set."
      ]
    },
    {
      "cell_type": "code",
      "metadata": {
        "id": "IQVmYONUUpxk",
        "colab_type": "code",
        "colab": {},
        "outputId": "d423b144-795f-435c-ceb2-6b6fd935fcae"
      },
      "source": [
        "lm_sfs.fit(X_train_sfs, y_train)"
      ],
      "execution_count": 0,
      "outputs": [
        {
          "output_type": "execute_result",
          "data": {
            "text/plain": [
              "LogisticRegression(C=1.0, class_weight=None, dual=False, fit_intercept=True,\n",
              "                   intercept_scaling=1, l1_ratio=None, max_iter=100,\n",
              "                   multi_class='auto', n_jobs=None, penalty='l2',\n",
              "                   random_state=None, solver='lbfgs', tol=0.0001, verbose=0,\n",
              "                   warm_start=False)"
            ]
          },
          "metadata": {
            "tags": []
          },
          "execution_count": 80
        }
      ]
    },
    {
      "cell_type": "markdown",
      "metadata": {
        "id": "xRjAiJMKUpxm",
        "colab_type": "text"
      },
      "source": [
        "Finally, we'll generate some predictions."
      ]
    },
    {
      "cell_type": "code",
      "metadata": {
        "id": "WZv293TPUpxm",
        "colab_type": "code",
        "colab": {}
      },
      "source": [
        "pred_lm_sfs = lm_sfs.predict(X_test_sfs)"
      ],
      "execution_count": 0,
      "outputs": []
    },
    {
      "cell_type": "markdown",
      "metadata": {
        "id": "xF3vo_hhUpxn",
        "colab_type": "text"
      },
      "source": [
        "### Assessment"
      ]
    },
    {
      "cell_type": "markdown",
      "metadata": {
        "id": "jY7fTcNUUpxo",
        "colab_type": "text"
      },
      "source": [
        "Using `classification report`, we'll look at f1-score, precision and recall for each of our models."
      ]
    },
    {
      "cell_type": "code",
      "metadata": {
        "id": "-sWWH_ShUpxo",
        "colab_type": "code",
        "colab": {}
      },
      "source": [
        "print('Full Model')\n",
        "print(classification_report(y_test, pred_lm_full, target_names=['Malignant', 'Benign']))\n",
        "\n",
        "print('Var Thresh Model')\n",
        "print(classification_report(y_test, pred_lm_vt, target_names=['Malignant', 'Benign']))\n",
        "\n",
        "print('KBest Model')\n",
        "print(classification_report(y_test, pred_lm_kbest, target_names=['Malignant', 'Benign']))\n",
        "\n",
        "print('SFS Model')\n",
        "print(classification_report(y_test, pred_lm_sfs, target_names=['Malignant', 'Benign']))"
      ],
      "execution_count": 0,
      "outputs": []
    },
    {
      "cell_type": "code",
      "metadata": {
        "id": "1Eqd9xEkUpxq",
        "colab_type": "code",
        "colab": {},
        "outputId": "a36628cc-e55c-4ed7-97c3-deec7ffa9030"
      },
      "source": [
        "print('SFS Model')\n",
        "print(classification_report(y_test, pred_lm_sfs, target_names=['Malignant', 'Benign']))"
      ],
      "execution_count": 0,
      "outputs": [
        {
          "output_type": "stream",
          "text": [
            "SFS Model\n",
            "              precision    recall  f1-score   support\n",
            "\n",
            "   Malignant       1.00      0.90      0.95        39\n",
            "      Benign       0.95      1.00      0.97        75\n",
            "\n",
            "    accuracy                           0.96       114\n",
            "   macro avg       0.97      0.95      0.96       114\n",
            "weighted avg       0.97      0.96      0.96       114\n",
            "\n"
          ],
          "name": "stdout"
        }
      ]
    },
    {
      "cell_type": "markdown",
      "metadata": {
        "id": "yUGRdJfJUpxs",
        "colab_type": "text"
      },
      "source": [
        "Interestingly, the full model achives perfect accuracy in both classes, a 0.07% improvement over the full model in the previous tutorial. The only difference here is that we scaled our data first - which clearly made a difference for the convergence of the logistic regression classifier.\n",
        "\n",
        "The other 3 models all perform very well, with the `SelectKBest` model also achieving perfect accuracy in both classes. \n",
        "\n",
        "The variance thresholding model had the poorest performance of the four. Perhaps using variance alone was not a sufficiently good indicator of the importance of the features in question.\n",
        "\n",
        "There is yet another method we can use to try and improve the model - let's take a look."
      ]
    },
    {
      "cell_type": "markdown",
      "metadata": {
        "id": "WFOdKsnIUpxs",
        "colab_type": "text"
      },
      "source": [
        "## 3. Tuning the Model Hyperparameter"
      ]
    },
    {
      "cell_type": "markdown",
      "metadata": {
        "id": "CTuG1vV4Upxs",
        "colab_type": "text"
      },
      "source": [
        "Most models have have settings or configuration values, known as hyperparameters, that can be changed to modify the fit of the model on the training data. The logistic regression model contains a hyperparameter _C_, which is used to control the penalty we apply to features that are less important (i.e.: more important features will have greater weight).\n",
        "\n",
        "The smaller the value of _C_, the greater the penalty to less important features. _C_ is a value greater than 0. You will recall from regression the regularisation methods Ridge and LASSO, which sought to minimise the L2- or L1-norm, respectively, by shrinking the coefficients of certain features. The penalty term had a coefficient of its own, which we called $\\alpha$, which controlled the severity of shrinkage that occurred. The _C_ value we will change here is precisely the _inverse_ value of $\\alpha$. In other words, the smaller the value of C, the greater the amount of shrinkage that occurs."
      ]
    },
    {
      "cell_type": "markdown",
      "metadata": {
        "id": "a45Y9MS6Upxt",
        "colab_type": "text"
      },
      "source": [
        "### Training"
      ]
    },
    {
      "cell_type": "markdown",
      "metadata": {
        "id": "p8asY5fUUpxt",
        "colab_type": "text"
      },
      "source": [
        "We create three instances of the `LogisticRegression()` object, specifying a different value of the hyperparameter _C_ for each. When we set C to be small, we'll also specify the penalty type to be `l1` - this will allow some of the coefficients to be shrunk all the way to zero."
      ]
    },
    {
      "cell_type": "code",
      "metadata": {
        "id": "3FJLBdyoUpxt",
        "colab_type": "code",
        "colab": {}
      },
      "source": [
        "# Small C\n",
        "model_1 = LogisticRegression(C=0.05, penalty='l1', solver='liblinear', verbose=1)\n",
        "\n",
        "# Default C\n",
        "model_2 = LogisticRegression(C=1)\n",
        "\n",
        "# Large C\n",
        "model_3 = LogisticRegression(C=10)"
      ],
      "execution_count": 0,
      "outputs": []
    },
    {
      "cell_type": "code",
      "metadata": {
        "id": "4mTMfd7MUpxv",
        "colab_type": "code",
        "colab": {},
        "outputId": "70740a4c-ffe0-4dc7-8319-d76d6485b23a"
      },
      "source": [
        "model_1.fit(X_train, y_train)"
      ],
      "execution_count": 0,
      "outputs": [
        {
          "output_type": "stream",
          "text": [
            "[LibLinear]"
          ],
          "name": "stdout"
        },
        {
          "output_type": "execute_result",
          "data": {
            "text/plain": [
              "LogisticRegression(C=0.05, class_weight=None, dual=False, fit_intercept=True,\n",
              "                   intercept_scaling=1, l1_ratio=None, max_iter=100,\n",
              "                   multi_class='auto', n_jobs=None, penalty='l1',\n",
              "                   random_state=None, solver='liblinear', tol=0.0001, verbose=1,\n",
              "                   warm_start=False)"
            ]
          },
          "metadata": {
            "tags": []
          },
          "execution_count": 217
        }
      ]
    },
    {
      "cell_type": "code",
      "metadata": {
        "id": "UID_XEXgUpxy",
        "colab_type": "code",
        "colab": {},
        "outputId": "a0258066-2f69-4262-f54e-6c64b40bc1ee"
      },
      "source": [
        "model_2.fit(X_train, y_train)"
      ],
      "execution_count": 0,
      "outputs": [
        {
          "output_type": "execute_result",
          "data": {
            "text/plain": [
              "LogisticRegression(C=1, class_weight=None, dual=False, fit_intercept=True,\n",
              "                   intercept_scaling=1, l1_ratio=None, max_iter=100,\n",
              "                   multi_class='auto', n_jobs=None, penalty='l2',\n",
              "                   random_state=None, solver='lbfgs', tol=0.0001, verbose=0,\n",
              "                   warm_start=False)"
            ]
          },
          "metadata": {
            "tags": []
          },
          "execution_count": 218
        }
      ]
    },
    {
      "cell_type": "code",
      "metadata": {
        "id": "wAfwTU0KUpxz",
        "colab_type": "code",
        "colab": {},
        "outputId": "50b58020-8679-4d1f-eb2d-56959cb8b6c9"
      },
      "source": [
        "model_3.fit(X_train, y_train)"
      ],
      "execution_count": 0,
      "outputs": [
        {
          "output_type": "execute_result",
          "data": {
            "text/plain": [
              "LogisticRegression(C=10, class_weight=None, dual=False, fit_intercept=True,\n",
              "                   intercept_scaling=1, l1_ratio=None, max_iter=100,\n",
              "                   multi_class='auto', n_jobs=None, penalty='l2',\n",
              "                   random_state=None, solver='lbfgs', tol=0.0001, verbose=0,\n",
              "                   warm_start=False)"
            ]
          },
          "metadata": {
            "tags": []
          },
          "execution_count": 219
        }
      ]
    },
    {
      "cell_type": "markdown",
      "metadata": {
        "id": "dGZ5Rk4dUpx1",
        "colab_type": "text"
      },
      "source": [
        "Taking a look at the magnitudes of the coefficients of each trained model, we can see that the smaller C is, the more features are shrunk. In the case where `penalty='l1'`, smaller C values literally means less features included. Notice how only one non-zero coefficient remains in that case."
      ]
    },
    {
      "cell_type": "code",
      "metadata": {
        "id": "IeZ4gs36Upx1",
        "colab_type": "code",
        "colab": {},
        "outputId": "949632a7-9c98-4617-dc85-5302eca5a3b9"
      },
      "source": [
        "model_1.coef_"
      ],
      "execution_count": 0,
      "outputs": [
        {
          "output_type": "execute_result",
          "data": {
            "text/plain": [
              "array([[ 0.        ,  0.        ,  0.        ,  0.        ,  0.        ,\n",
              "         0.        ,  0.        ,  0.        ,  0.        ,  0.        ,\n",
              "         0.        ,  0.        ,  0.        ,  0.        ,  0.        ,\n",
              "         0.        ,  0.        ,  0.        ,  0.        ,  0.        ,\n",
              "         0.        ,  0.        ,  0.        ,  0.        ,  0.        ,\n",
              "         0.        ,  0.        , -2.07189122,  0.        ,  0.        ]])"
            ]
          },
          "metadata": {
            "tags": []
          },
          "execution_count": 221
        }
      ]
    },
    {
      "cell_type": "code",
      "metadata": {
        "id": "T8CaHrmmUpx4",
        "colab_type": "code",
        "colab": {},
        "outputId": "23f91f5a-9a73-48dc-d707-4786734e9e9c"
      },
      "source": [
        "model_2.coef_"
      ],
      "execution_count": 0,
      "outputs": [
        {
          "output_type": "execute_result",
          "data": {
            "text/plain": [
              "array([[-1.7611167 , -1.65615376, -1.72064645, -1.49501402, -0.4804673 ,\n",
              "        -0.2554986 , -1.39564379, -1.88675522, -0.37475386,  0.92999426,\n",
              "        -1.14761616, -0.06882066, -0.86899982, -0.75098234, -0.04906747,\n",
              "         0.67561638,  0.07421836, -0.35106216,  0.44862657,  0.57753662,\n",
              "        -2.18677336, -2.23153836, -2.01294075, -1.58627796, -1.3795238 ,\n",
              "        -0.73360431, -1.45439135, -2.50448563, -1.11702906, -0.29772029]])"
            ]
          },
          "metadata": {
            "tags": []
          },
          "execution_count": 222
        }
      ]
    },
    {
      "cell_type": "code",
      "metadata": {
        "id": "yP6IXmpbUpx6",
        "colab_type": "code",
        "colab": {},
        "outputId": "c461cfc7-98be-40a0-ba0c-9e63fecc8f9c"
      },
      "source": [
        "model_3.coef_"
      ],
      "execution_count": 0,
      "outputs": [
        {
          "output_type": "execute_result",
          "data": {
            "text/plain": [
              "array([[-2.59663513e+00, -3.29433429e+00, -2.46075904e+00,\n",
              "        -2.40279743e+00, -1.01940227e+00,  1.44142514e+00,\n",
              "        -2.88469115e+00, -3.58340794e+00,  4.64841674e-03,\n",
              "         1.78982561e+00, -4.55484934e+00, -2.63077826e-01,\n",
              "        -3.13595220e+00, -2.51883484e+00, -5.66192344e-01,\n",
              "         3.42656545e+00,  2.25994264e-01, -9.24069184e-01,\n",
              "         2.37840179e+00,  2.06612100e+00, -4.52483080e+00,\n",
              "        -4.85065639e+00, -3.87141643e+00, -3.40223131e+00,\n",
              "        -3.05293127e+00, -3.09352008e-01, -3.24281894e+00,\n",
              "        -3.92283784e+00, -2.67229807e+00, -8.17324890e-01]])"
            ]
          },
          "metadata": {
            "tags": []
          },
          "execution_count": 223
        }
      ]
    },
    {
      "cell_type": "markdown",
      "metadata": {
        "id": "ntkrxvD5Upx-",
        "colab_type": "text"
      },
      "source": [
        "### Predicting"
      ]
    },
    {
      "cell_type": "markdown",
      "metadata": {
        "id": "CnIsT09-Upx-",
        "colab_type": "text"
      },
      "source": [
        "The models have been trained. Let's make some predictions."
      ]
    },
    {
      "cell_type": "code",
      "metadata": {
        "id": "r_RE2_dAUpx_",
        "colab_type": "code",
        "colab": {}
      },
      "source": [
        "pred_1 = model_1.predict(X_test)\n",
        "pred_2 = model_2.predict(X_test)\n",
        "pred_3 = model_3.predict(X_test)"
      ],
      "execution_count": 0,
      "outputs": []
    },
    {
      "cell_type": "markdown",
      "metadata": {
        "id": "Q9LsMFuBUpyB",
        "colab_type": "text"
      },
      "source": [
        "### Testing"
      ]
    },
    {
      "cell_type": "markdown",
      "metadata": {
        "id": "7R6wRlvBUpyB",
        "colab_type": "text"
      },
      "source": [
        "We will once again use the classification report to compare the model results. "
      ]
    },
    {
      "cell_type": "code",
      "metadata": {
        "id": "-NdlpMtLUpyC",
        "colab_type": "code",
        "colab": {},
        "outputId": "3ce67a5d-921d-4da1-915a-d744e8c7246c"
      },
      "source": [
        "print('C = 0.05')\n",
        "print(classification_report(y_test, pred_1, target_names=['Malignant', 'Benign']))\n",
        "\n",
        "print('C = 1')\n",
        "print(classification_report(y_test, pred_2, target_names=['Malignant', 'Benign']))\n",
        "\n",
        "print('C = 10')\n",
        "print(classification_report(y_test, pred_3, target_names=['Malignant', 'Benign']))"
      ],
      "execution_count": 0,
      "outputs": [
        {
          "output_type": "stream",
          "text": [
            "C = 0.05\n",
            "              precision    recall  f1-score   support\n",
            "\n",
            "   Malignant       0.96      0.62      0.75        39\n",
            "      Benign       0.83      0.99      0.90        75\n",
            "\n",
            "    accuracy                           0.86       114\n",
            "   macro avg       0.90      0.80      0.83       114\n",
            "weighted avg       0.88      0.86      0.85       114\n",
            "\n",
            "C = 1\n",
            "              precision    recall  f1-score   support\n",
            "\n",
            "   Malignant       1.00      1.00      1.00        39\n",
            "      Benign       1.00      1.00      1.00        75\n",
            "\n",
            "    accuracy                           1.00       114\n",
            "   macro avg       1.00      1.00      1.00       114\n",
            "weighted avg       1.00      1.00      1.00       114\n",
            "\n",
            "C = 10\n",
            "              precision    recall  f1-score   support\n",
            "\n",
            "   Malignant       0.97      0.97      0.97        39\n",
            "      Benign       0.99      0.99      0.99        75\n",
            "\n",
            "    accuracy                           0.98       114\n",
            "   macro avg       0.98      0.98      0.98       114\n",
            "weighted avg       0.98      0.98      0.98       114\n",
            "\n"
          ],
          "name": "stdout"
        }
      ]
    },
    {
      "cell_type": "markdown",
      "metadata": {
        "id": "Jco475zaUpyE",
        "colab_type": "text"
      },
      "source": [
        "Clearly, in setting C = 0.05 we have tuned the hyperparameter too aggressively and adversely affected the model's performance. Note how the f1-score is significantly lower for that variation than any other we have looked at.\n",
        "\n",
        "The logistic regression algorithm is a simple case for hyperparameter tuning because it only contains one value to tweak. Other models, like support vecto machines, tree-based methods, and neural networks, contain many more hyperparameters - in most cases too many for the model architect to optimise on her own. In these cases we use what is known as grid search: an iterative testing of multiple combinations of hyperparameters to find the optimal set. More on that later on."
      ]
    },
    {
      "cell_type": "markdown",
      "metadata": {
        "id": "IBG43i5uUpyF",
        "colab_type": "text"
      },
      "source": [
        "## Conclusion\n",
        "\n",
        "In the course of this tutorial we have seen or been introduced to:\n",
        "\n",
        "- The importance of carrying out a train/test split before doing any feature selection;\n",
        "- Feature subset selection by variance thresholding;\n",
        "- Feature subset selection by select the k-best features;\n",
        "- Feature subset selection by sequential forward selection; and\n",
        "- Improving a model by tuning the hyperparameters."
      ]
    }
  ]
}