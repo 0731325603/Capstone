{
  "nbformat": 4,
  "nbformat_minor": 0,
  "metadata": {
    "kernelspec": {
      "display_name": "Python 3",
      "language": "python",
      "name": "python3"
    },
    "language_info": {
      "codemirror_mode": {
        "name": "ipython",
        "version": 3
      },
      "file_extension": ".py",
      "mimetype": "text/x-python",
      "name": "python",
      "nbconvert_exporter": "python",
      "pygments_lexer": "ipython3",
      "version": "3.5.2"
    },
    "colab": {
      "name": "2_Binary_Classification_Metrics.ipynb",
      "provenance": [],
      "include_colab_link": true
    }
  },
  "cells": [
    {
      "cell_type": "markdown",
      "metadata": {
        "id": "view-in-github",
        "colab_type": "text"
      },
      "source": [
        "<a href=\"https://colab.research.google.com/github/0731325603/Capstone/blob/master/2_Binary_Classification_Metrics.ipynb\" target=\"_parent\"><img src=\"https://colab.research.google.com/assets/colab-badge.svg\" alt=\"Open In Colab\"/></a>"
      ]
    },
    {
      "cell_type": "markdown",
      "metadata": {
        "id": "PsIGeP9mRdoK",
        "colab_type": "text"
      },
      "source": [
        "# Binary Classification Metrics\n",
        "\n",
        "© Explore Data Science Academy"
      ]
    },
    {
      "cell_type": "markdown",
      "metadata": {
        "id": "5Iw4rnzQRdoL",
        "colab_type": "text"
      },
      "source": [
        "## Learning Objectives\n",
        "\n",
        "- Learn how to assess the performance of a binary classifier;\n",
        "- Understand how to assess performance in the presence of class imbalance;\n",
        "- Understand the terms accuracy, precision, recall, and F1-score."
      ]
    },
    {
      "cell_type": "markdown",
      "metadata": {
        "id": "6J0x4ZawRdoM",
        "colab_type": "text"
      },
      "source": [
        "## Outline\n",
        "\n",
        "In the course of this tutorial, we will:\n",
        "\n",
        "1. Rebuild the logistic regression model from the previous tutorial;\n",
        "2. Assess model performance using the confusion matrix;\n",
        "3. Assess model performance using the classification report."
      ]
    },
    {
      "cell_type": "markdown",
      "metadata": {
        "id": "wrTZl41aRdoN",
        "colab_type": "text"
      },
      "source": [
        "### 1. Building Our Logistic Regression Model\n",
        "\n",
        "We'll need a trained model in order to asses its performance. We'll use a classic binary classification dataset for this task: the Wisconsin Breast Cancer dataset. It consists of 569 observations with 30 predictors and a single binary response variable.\n",
        "\n",
        "Each observation is the result of a scan on a mass of breast tissue for the purpose of diagnosing or dismissing breast cancer in a patient."
      ]
    },
    {
      "cell_type": "code",
      "metadata": {
        "id": "4d9k49rSRdoN",
        "colab_type": "code",
        "colab": {}
      },
      "source": [
        "import numpy as np\n",
        "import pandas as pd\n",
        "import matplotlib.pyplot as plt\n",
        "import seaborn as sns\n",
        "%matplotlib inline\n",
        "\n",
        "# import dataset\n",
        "from sklearn.datasets import load_breast_cancer\n",
        "\n",
        "# suppress cell warnings\n",
        "import warnings\n",
        "warnings.filterwarnings(\"ignore\")"
      ],
      "execution_count": 0,
      "outputs": []
    },
    {
      "cell_type": "code",
      "metadata": {
        "id": "77d7N85gRdoQ",
        "colab_type": "code",
        "colab": {}
      },
      "source": [
        "X, y = load_breast_cancer(return_X_y=True)"
      ],
      "execution_count": 0,
      "outputs": []
    },
    {
      "cell_type": "markdown",
      "metadata": {
        "id": "gl_SXf_XRdoT",
        "colab_type": "text"
      },
      "source": [
        "The target variable, which we'll store in the `DataFrame` _y_, consists of two classes, each referring to the diagnosis of a scan of a mass of breast tissue:\n",
        "\n",
        "- 1: the mass is benign;\n",
        "- 0: the mass is malignant."
      ]
    },
    {
      "cell_type": "code",
      "metadata": {
        "id": "omICmTZTRdoT",
        "colab_type": "code",
        "colab": {}
      },
      "source": [
        "# convert to pandas dataframes\n",
        "X = pd.DataFrame(X)\n",
        "y = pd.DataFrame(y, columns=['Target'])"
      ],
      "execution_count": 0,
      "outputs": []
    },
    {
      "cell_type": "markdown",
      "metadata": {
        "id": "jzljMkEsRdoW",
        "colab_type": "text"
      },
      "source": [
        "Let's take a look at the 30 predictor variables. All continuous, all encoded to four significant digits."
      ]
    },
    {
      "cell_type": "code",
      "metadata": {
        "id": "owaE8V0MRdoX",
        "colab_type": "code",
        "colab": {},
        "outputId": "fb8602cf-91d1-401c-c7dd-73ba7a45937b"
      },
      "source": [
        "X.head()"
      ],
      "execution_count": 0,
      "outputs": [
        {
          "output_type": "execute_result",
          "data": {
            "text/html": [
              "<div>\n",
              "<style scoped>\n",
              "    .dataframe tbody tr th:only-of-type {\n",
              "        vertical-align: middle;\n",
              "    }\n",
              "\n",
              "    .dataframe tbody tr th {\n",
              "        vertical-align: top;\n",
              "    }\n",
              "\n",
              "    .dataframe thead th {\n",
              "        text-align: right;\n",
              "    }\n",
              "</style>\n",
              "<table border=\"1\" class=\"dataframe\">\n",
              "  <thead>\n",
              "    <tr style=\"text-align: right;\">\n",
              "      <th></th>\n",
              "      <th>0</th>\n",
              "      <th>1</th>\n",
              "      <th>2</th>\n",
              "      <th>3</th>\n",
              "      <th>4</th>\n",
              "      <th>5</th>\n",
              "      <th>6</th>\n",
              "      <th>7</th>\n",
              "      <th>8</th>\n",
              "      <th>9</th>\n",
              "      <th>...</th>\n",
              "      <th>20</th>\n",
              "      <th>21</th>\n",
              "      <th>22</th>\n",
              "      <th>23</th>\n",
              "      <th>24</th>\n",
              "      <th>25</th>\n",
              "      <th>26</th>\n",
              "      <th>27</th>\n",
              "      <th>28</th>\n",
              "      <th>29</th>\n",
              "    </tr>\n",
              "  </thead>\n",
              "  <tbody>\n",
              "    <tr>\n",
              "      <th>0</th>\n",
              "      <td>17.99</td>\n",
              "      <td>10.38</td>\n",
              "      <td>122.80</td>\n",
              "      <td>1001.0</td>\n",
              "      <td>0.11840</td>\n",
              "      <td>0.27760</td>\n",
              "      <td>0.3001</td>\n",
              "      <td>0.14710</td>\n",
              "      <td>0.2419</td>\n",
              "      <td>0.07871</td>\n",
              "      <td>...</td>\n",
              "      <td>25.38</td>\n",
              "      <td>17.33</td>\n",
              "      <td>184.60</td>\n",
              "      <td>2019.0</td>\n",
              "      <td>0.1622</td>\n",
              "      <td>0.6656</td>\n",
              "      <td>0.7119</td>\n",
              "      <td>0.2654</td>\n",
              "      <td>0.4601</td>\n",
              "      <td>0.11890</td>\n",
              "    </tr>\n",
              "    <tr>\n",
              "      <th>1</th>\n",
              "      <td>20.57</td>\n",
              "      <td>17.77</td>\n",
              "      <td>132.90</td>\n",
              "      <td>1326.0</td>\n",
              "      <td>0.08474</td>\n",
              "      <td>0.07864</td>\n",
              "      <td>0.0869</td>\n",
              "      <td>0.07017</td>\n",
              "      <td>0.1812</td>\n",
              "      <td>0.05667</td>\n",
              "      <td>...</td>\n",
              "      <td>24.99</td>\n",
              "      <td>23.41</td>\n",
              "      <td>158.80</td>\n",
              "      <td>1956.0</td>\n",
              "      <td>0.1238</td>\n",
              "      <td>0.1866</td>\n",
              "      <td>0.2416</td>\n",
              "      <td>0.1860</td>\n",
              "      <td>0.2750</td>\n",
              "      <td>0.08902</td>\n",
              "    </tr>\n",
              "    <tr>\n",
              "      <th>2</th>\n",
              "      <td>19.69</td>\n",
              "      <td>21.25</td>\n",
              "      <td>130.00</td>\n",
              "      <td>1203.0</td>\n",
              "      <td>0.10960</td>\n",
              "      <td>0.15990</td>\n",
              "      <td>0.1974</td>\n",
              "      <td>0.12790</td>\n",
              "      <td>0.2069</td>\n",
              "      <td>0.05999</td>\n",
              "      <td>...</td>\n",
              "      <td>23.57</td>\n",
              "      <td>25.53</td>\n",
              "      <td>152.50</td>\n",
              "      <td>1709.0</td>\n",
              "      <td>0.1444</td>\n",
              "      <td>0.4245</td>\n",
              "      <td>0.4504</td>\n",
              "      <td>0.2430</td>\n",
              "      <td>0.3613</td>\n",
              "      <td>0.08758</td>\n",
              "    </tr>\n",
              "    <tr>\n",
              "      <th>3</th>\n",
              "      <td>11.42</td>\n",
              "      <td>20.38</td>\n",
              "      <td>77.58</td>\n",
              "      <td>386.1</td>\n",
              "      <td>0.14250</td>\n",
              "      <td>0.28390</td>\n",
              "      <td>0.2414</td>\n",
              "      <td>0.10520</td>\n",
              "      <td>0.2597</td>\n",
              "      <td>0.09744</td>\n",
              "      <td>...</td>\n",
              "      <td>14.91</td>\n",
              "      <td>26.50</td>\n",
              "      <td>98.87</td>\n",
              "      <td>567.7</td>\n",
              "      <td>0.2098</td>\n",
              "      <td>0.8663</td>\n",
              "      <td>0.6869</td>\n",
              "      <td>0.2575</td>\n",
              "      <td>0.6638</td>\n",
              "      <td>0.17300</td>\n",
              "    </tr>\n",
              "    <tr>\n",
              "      <th>4</th>\n",
              "      <td>20.29</td>\n",
              "      <td>14.34</td>\n",
              "      <td>135.10</td>\n",
              "      <td>1297.0</td>\n",
              "      <td>0.10030</td>\n",
              "      <td>0.13280</td>\n",
              "      <td>0.1980</td>\n",
              "      <td>0.10430</td>\n",
              "      <td>0.1809</td>\n",
              "      <td>0.05883</td>\n",
              "      <td>...</td>\n",
              "      <td>22.54</td>\n",
              "      <td>16.67</td>\n",
              "      <td>152.20</td>\n",
              "      <td>1575.0</td>\n",
              "      <td>0.1374</td>\n",
              "      <td>0.2050</td>\n",
              "      <td>0.4000</td>\n",
              "      <td>0.1625</td>\n",
              "      <td>0.2364</td>\n",
              "      <td>0.07678</td>\n",
              "    </tr>\n",
              "  </tbody>\n",
              "</table>\n",
              "<p>5 rows × 30 columns</p>\n",
              "</div>"
            ],
            "text/plain": [
              "      0      1       2       3        4        5       6        7       8   \\\n",
              "0  17.99  10.38  122.80  1001.0  0.11840  0.27760  0.3001  0.14710  0.2419   \n",
              "1  20.57  17.77  132.90  1326.0  0.08474  0.07864  0.0869  0.07017  0.1812   \n",
              "2  19.69  21.25  130.00  1203.0  0.10960  0.15990  0.1974  0.12790  0.2069   \n",
              "3  11.42  20.38   77.58   386.1  0.14250  0.28390  0.2414  0.10520  0.2597   \n",
              "4  20.29  14.34  135.10  1297.0  0.10030  0.13280  0.1980  0.10430  0.1809   \n",
              "\n",
              "        9   ...     20     21      22      23      24      25      26      27  \\\n",
              "0  0.07871  ...  25.38  17.33  184.60  2019.0  0.1622  0.6656  0.7119  0.2654   \n",
              "1  0.05667  ...  24.99  23.41  158.80  1956.0  0.1238  0.1866  0.2416  0.1860   \n",
              "2  0.05999  ...  23.57  25.53  152.50  1709.0  0.1444  0.4245  0.4504  0.2430   \n",
              "3  0.09744  ...  14.91  26.50   98.87   567.7  0.2098  0.8663  0.6869  0.2575   \n",
              "4  0.05883  ...  22.54  16.67  152.20  1575.0  0.1374  0.2050  0.4000  0.1625   \n",
              "\n",
              "       28       29  \n",
              "0  0.4601  0.11890  \n",
              "1  0.2750  0.08902  \n",
              "2  0.3613  0.08758  \n",
              "3  0.6638  0.17300  \n",
              "4  0.2364  0.07678  \n",
              "\n",
              "[5 rows x 30 columns]"
            ]
          },
          "metadata": {
            "tags": []
          },
          "execution_count": 6
        }
      ]
    },
    {
      "cell_type": "code",
      "metadata": {
        "id": "dcKDd55VRdoa",
        "colab_type": "code",
        "colab": {}
      },
      "source": [
        "from sklearn.model_selection import train_test_split"
      ],
      "execution_count": 0,
      "outputs": []
    },
    {
      "cell_type": "code",
      "metadata": {
        "id": "6B3VCrnLRdoc",
        "colab_type": "code",
        "colab": {}
      },
      "source": [
        "# split into train and test\n",
        "X_train, X_test, y_train, y_test = train_test_split(X, y, test_size=0.2, random_state=10)"
      ],
      "execution_count": 0,
      "outputs": []
    },
    {
      "cell_type": "markdown",
      "metadata": {
        "id": "p-wyVUPcRdof",
        "colab_type": "text"
      },
      "source": [
        "Before we move on, we'll take a look at the distribution of observations between the two classes."
      ]
    },
    {
      "cell_type": "code",
      "metadata": {
        "id": "Z83Ib7H3Rdof",
        "colab_type": "code",
        "colab": {},
        "outputId": "bd09499d-dc72-4512-f505-d10e9c3d3546"
      },
      "source": [
        "unique, counts = np.unique(y_train, return_counts=True)\n",
        "plt.bar(unique, counts)\n",
        "unique, counts = np.unique(y_test, return_counts=True)\n",
        "plt.bar(unique, counts)\n",
        "\n",
        "plt.title('Class Frequency')\n",
        "plt.xlabel('Class')\n",
        "plt.ylabel('Frequency')\n",
        "plt.xticks(ticks=[0,1], labels=[0,1])\n",
        "plt.ylim(top=300)\n",
        "\n",
        "plt.show()\n",
        "y['Target'].value_counts()"
      ],
      "execution_count": 0,
      "outputs": [
        {
          "output_type": "display_data",
          "data": {
            "image/png": "[encoded data removed]",
            "text/plain": [
              "<Figure size 432x288 with 1 Axes>"
            ]
          },
          "metadata": {
            "tags": [],
            "needs_background": "light"
          }
        },
        {
          "output_type": "execute_result",
          "data": {
            "text/plain": [
              "1    357\n",
              "0    212\n",
              "Name: Target, dtype: int64"
            ]
          },
          "metadata": {
            "tags": []
          },
          "execution_count": 9
        }
      ]
    },
    {
      "cell_type": "markdown",
      "metadata": {
        "id": "rtanD8lVRdoh",
        "colab_type": "text"
      },
      "source": [
        "Take note of the imbalance here: there are 357 observations in class 1 and only 212 in class 0."
      ]
    },
    {
      "cell_type": "code",
      "metadata": {
        "id": "cxOQIWlHRdoi",
        "colab_type": "code",
        "colab": {}
      },
      "source": [
        "from sklearn.linear_model import LogisticRegression"
      ],
      "execution_count": 0,
      "outputs": []
    },
    {
      "cell_type": "code",
      "metadata": {
        "id": "1LhftKs_Rdok",
        "colab_type": "code",
        "colab": {}
      },
      "source": [
        "# create logistic regression model instance\n",
        "lm = LogisticRegression()"
      ],
      "execution_count": 0,
      "outputs": []
    },
    {
      "cell_type": "code",
      "metadata": {
        "id": "IH5JHwAjRdon",
        "colab_type": "code",
        "colab": {},
        "outputId": "24468fef-7c7e-4a01-fcc8-f172f475785f"
      },
      "source": [
        "lm.fit(X_train,y_train)"
      ],
      "execution_count": 0,
      "outputs": [
        {
          "output_type": "execute_result",
          "data": {
            "text/plain": [
              "LogisticRegression(C=1.0, class_weight=None, dual=False, fit_intercept=True,\n",
              "                   intercept_scaling=1, l1_ratio=None, max_iter=100,\n",
              "                   multi_class='auto', n_jobs=None, penalty='l2',\n",
              "                   random_state=None, solver='lbfgs', tol=0.0001, verbose=0,\n",
              "                   warm_start=False)"
            ]
          },
          "metadata": {
            "tags": []
          },
          "execution_count": 12
        }
      ]
    },
    {
      "cell_type": "code",
      "metadata": {
        "id": "bzboSO4XRdop",
        "colab_type": "code",
        "colab": {},
        "outputId": "7c7120a8-72f7-4e3f-d0fb-a332a8f32b01"
      },
      "source": [
        "lm.intercept_[0]"
      ],
      "execution_count": 0,
      "outputs": [
        {
          "output_type": "execute_result",
          "data": {
            "text/plain": [
              "0.09099876263699838"
            ]
          },
          "metadata": {
            "tags": []
          },
          "execution_count": 13
        }
      ]
    },
    {
      "cell_type": "code",
      "metadata": {
        "id": "lA8e0XPGRdos",
        "colab_type": "code",
        "colab": {},
        "outputId": "737cafda-9470-4fb3-8d5d-93f34ed95c37"
      },
      "source": [
        "coeff_df = pd.DataFrame(lm.coef_.T,X.columns,columns=['Coefficient'])\n",
        "coeff_df.head()"
      ],
      "execution_count": 0,
      "outputs": [
        {
          "output_type": "execute_result",
          "data": {
            "text/html": [
              "<div>\n",
              "<style scoped>\n",
              "    .dataframe tbody tr th:only-of-type {\n",
              "        vertical-align: middle;\n",
              "    }\n",
              "\n",
              "    .dataframe tbody tr th {\n",
              "        vertical-align: top;\n",
              "    }\n",
              "\n",
              "    .dataframe thead th {\n",
              "        text-align: right;\n",
              "    }\n",
              "</style>\n",
              "<table border=\"1\" class=\"dataframe\">\n",
              "  <thead>\n",
              "    <tr style=\"text-align: right;\">\n",
              "      <th></th>\n",
              "      <th>Coefficient</th>\n",
              "    </tr>\n",
              "  </thead>\n",
              "  <tbody>\n",
              "    <tr>\n",
              "      <th>0</th>\n",
              "      <td>0.538830</td>\n",
              "    </tr>\n",
              "    <tr>\n",
              "      <th>1</th>\n",
              "      <td>0.236950</td>\n",
              "    </tr>\n",
              "    <tr>\n",
              "      <th>2</th>\n",
              "      <td>0.604418</td>\n",
              "    </tr>\n",
              "    <tr>\n",
              "      <th>3</th>\n",
              "      <td>-0.029719</td>\n",
              "    </tr>\n",
              "    <tr>\n",
              "      <th>4</th>\n",
              "      <td>-0.015377</td>\n",
              "    </tr>\n",
              "  </tbody>\n",
              "</table>\n",
              "</div>"
            ],
            "text/plain": [
              "   Coefficient\n",
              "0     0.538830\n",
              "1     0.236950\n",
              "2     0.604418\n",
              "3    -0.029719\n",
              "4    -0.015377"
            ]
          },
          "metadata": {
            "tags": []
          },
          "execution_count": 14
        }
      ]
    },
    {
      "cell_type": "code",
      "metadata": {
        "id": "sMJwLG9ZRdow",
        "colab_type": "code",
        "colab": {}
      },
      "source": [
        "pred_lm = lm.predict(X_test)"
      ],
      "execution_count": 0,
      "outputs": []
    },
    {
      "cell_type": "markdown",
      "metadata": {
        "id": "N8J1v6efRdoy",
        "colab_type": "text"
      },
      "source": [
        "Alright, we've made some predictions. Now we can begin to compare those predictions to the ground truth labels of the test dataset, and determine how well the model has actually done."
      ]
    },
    {
      "cell_type": "markdown",
      "metadata": {
        "id": "M7lQsnetRdoz",
        "colab_type": "text"
      },
      "source": [
        "### 2. Assessing Model Performance using the Confusion Matrix"
      ]
    },
    {
      "cell_type": "markdown",
      "metadata": {
        "id": "GbA5_AyWRdoz",
        "colab_type": "text"
      },
      "source": [
        "A confusion matrix is a table that is often used to describe the performance of a classification model, or _classifier_ , on a set of test data for which the true values are known."
      ]
    },
    {
      "cell_type": "markdown",
      "metadata": {
        "id": "RaukuiqeRdo0",
        "colab_type": "text"
      },
      "source": [
        "<img src=\"https://raw.githubusercontent.com/Explore-AI/Pictures/master/sketch-conf-matrix.png\" alt=\"sketch-conf-matrix\" style=\"width: 400px;\"/>"
      ]
    },
    {
      "cell_type": "markdown",
      "metadata": {
        "id": "nVWXdPSiRdo0",
        "colab_type": "text"
      },
      "source": [
        "The confusion matrix itself is relatively simple to understand, but the related terminology can be confusing. Below are the basic terms, which are whole numbers (not proportions), each referring to a separate cell in the confusion matrix, above:\n",
        "\n",
        "- True negatives (TN): These are cases in which we predicted no claim, and there was no claim;\n",
        "- True positives (TP): We predicted a claim, and they did indeed claim;\n",
        "- False positives (FP): We predicted a claim (positive), when there was none (false). Also known as a **Type I error**;\n",
        "- False negatives (FN): We predicted no claim, but they actually did claim. Also known as a **Type II error**.\n",
        "\n",
        "Take a moment to familiarise yourself with the table and how we arrive at each of the four categories, using the sketch below to take note of which prediction falls into which category."
      ]
    },
    {
      "cell_type": "markdown",
      "metadata": {
        "id": "-0Bo02KERdo1",
        "colab_type": "text"
      },
      "source": [
        "<img src=\"https://raw.githubusercontent.com/Explore-AI/Pictures/master/sketch-compare-predictions.png\" alt=\"sketch-compare-predictions\" style=\"width: 450px;\"/>"
      ]
    },
    {
      "cell_type": "markdown",
      "metadata": {
        "id": "27Td0lYLRdo1",
        "colab_type": "text"
      },
      "source": [
        "#### Confusion Matrix in `sklearn`\n",
        "\n",
        "Let's import the `confusion_matrix` object to check the results."
      ]
    },
    {
      "cell_type": "code",
      "metadata": {
        "id": "8cRjoYrSRdo2",
        "colab_type": "code",
        "colab": {}
      },
      "source": [
        "from sklearn.metrics import confusion_matrix"
      ],
      "execution_count": 0,
      "outputs": []
    },
    {
      "cell_type": "markdown",
      "metadata": {
        "id": "xtVHJyZ9Rdo3",
        "colab_type": "text"
      },
      "source": [
        "The confusion matrix takes in two arguments: the unseen test data `y_test`, as well as our predictions, `pred_lm`."
      ]
    },
    {
      "cell_type": "code",
      "metadata": {
        "id": "0sW8FBFeRdo4",
        "colab_type": "code",
        "colab": {},
        "outputId": "e396458b-fad5-44eb-98af-247175d4adba"
      },
      "source": [
        "confusion_matrix(y_test, pred_lm)"
      ],
      "execution_count": 0,
      "outputs": [
        {
          "output_type": "execute_result",
          "data": {
            "text/plain": [
              "array([[36,  3],\n",
              "       [ 5, 70]])"
            ]
          },
          "metadata": {
            "tags": []
          },
          "execution_count": 17
        }
      ]
    },
    {
      "cell_type": "markdown",
      "metadata": {
        "id": "fDIrE0AFRdo6",
        "colab_type": "text"
      },
      "source": [
        "That doesn't look very nice - let's convert it into a dataframe and add the appropriate labels to make it clear which value is which.\n",
        "\n",
        "The matrix orders the rows and columns in a sorted fashion according to the labels. Our labels are 0 and 1, so the first row/column is 0, and the 2nd row/column is 1. Let's give it the appropriate labels."
      ]
    },
    {
      "cell_type": "code",
      "metadata": {
        "id": "fbokkuZSRdo7",
        "colab_type": "code",
        "colab": {},
        "outputId": "c7edb02b-590e-41b9-d110-ed66261f14bd"
      },
      "source": [
        "labels = ['0: Malignant', '1: Benign']\n",
        "\n",
        "pd.DataFrame(data=confusion_matrix(y_test, pred_lm), index=labels, columns=labels)"
      ],
      "execution_count": 0,
      "outputs": [
        {
          "output_type": "execute_result",
          "data": {
            "text/html": [
              "<div>\n",
              "<style scoped>\n",
              "    .dataframe tbody tr th:only-of-type {\n",
              "        vertical-align: middle;\n",
              "    }\n",
              "\n",
              "    .dataframe tbody tr th {\n",
              "        vertical-align: top;\n",
              "    }\n",
              "\n",
              "    .dataframe thead th {\n",
              "        text-align: right;\n",
              "    }\n",
              "</style>\n",
              "<table border=\"1\" class=\"dataframe\">\n",
              "  <thead>\n",
              "    <tr style=\"text-align: right;\">\n",
              "      <th></th>\n",
              "      <th>0: Malignant</th>\n",
              "      <th>1: Benign</th>\n",
              "    </tr>\n",
              "  </thead>\n",
              "  <tbody>\n",
              "    <tr>\n",
              "      <th>0: Malignant</th>\n",
              "      <td>36</td>\n",
              "      <td>3</td>\n",
              "    </tr>\n",
              "    <tr>\n",
              "      <th>1: Benign</th>\n",
              "      <td>5</td>\n",
              "      <td>70</td>\n",
              "    </tr>\n",
              "  </tbody>\n",
              "</table>\n",
              "</div>"
            ],
            "text/plain": [
              "              0: Malignant  1: Benign\n",
              "0: Malignant            36          3\n",
              "1: Benign                5         70"
            ]
          },
          "metadata": {
            "tags": []
          },
          "execution_count": 18
        }
      ]
    },
    {
      "cell_type": "markdown",
      "metadata": {
        "id": "pgvBWqeTRdo8",
        "colab_type": "text"
      },
      "source": [
        "That looks a little better. A few notes on the matrix:\n",
        "\n",
        "- Each row represents the ground truth totals for _Malignant_ and _Benign_. In other words, the sum of all the values in the first row is the total number of observations in our test dataset labelled _Malignant_.\n",
        "\n",
        "- Each column represents the totals for the predictions in each of _Malignant_ and _Benign_.\n",
        "\n",
        "- The intersection of each row/column gives us a different aspect of the results: TP, TN, FP, or FN, as described for the table sketched above.\n",
        "\n",
        "- Based on the confusion matrix shown here, the model classified $36 + 5 = 41$ observations to be _Malignant_, and $70 + 3 = 73$ to be _Benign_."
      ]
    },
    {
      "cell_type": "markdown",
      "metadata": {
        "id": "4GNb4dscRdo9",
        "colab_type": "text"
      },
      "source": [
        "#### Overall Accuracy\n",
        "\n",
        "The results shown above lead us to our first classification metric: **overall accuracy**, which we calculate according to the following formula:\n",
        "\n",
        "$$Accuracy =  \\frac{Correct\\space predictions}{Total\\space predictions} = \\frac{TP + \\space TN}{TP \\space + \\space TN \\space + \\space FP \\space + \\space FN}$$\n",
        "\n",
        "Our overall accuracy is calculated as follows:\n",
        "\n",
        "$$Accuracy =  \\frac{Correct\\space predictions}{Total\\space predictions} = \\frac{70 + 36}{70 + 36 + 3 + 3} = 0.946$$\n",
        "\n",
        "At first glance this appears to a useful, catch-all metric which tells us everything we need to know about our model. The problem is that it lacks detail.\n",
        "\n",
        "Consider the following scenario:\n",
        "\n",
        "- We have 100 observations in our test dataset: 90 of them are labelled _No_ , the remaining 10 labelled _Yes_. \n",
        "\n",
        "- At prediction time, our model classifies all 100 observations to be in category _No_. Our model made 100 predictions, and got all 90 of the _No_ observations correct, giving it an overall accuracy of 90%!\n",
        "\n",
        "- Sounds good right? The problem is that the model got literally none of the _Yes_-labelled observations correct - 0/10! What if the _Yes_ cases were for patients have cancer, or a transaction that is fraudulent? Those are important results, and we would have missed all of them.\n",
        "\n",
        "- Hopefully, that has highlighted the importance of being accurate not just overall, but in each particular class too.\n",
        "\n",
        "Let's look at few metrics which are a little more comprehensive."
      ]
    },
    {
      "cell_type": "markdown",
      "metadata": {
        "id": "rmb9ZOYFRdo9",
        "colab_type": "text"
      },
      "source": [
        "### 3. Assessing Model Performance using the Classification Report"
      ]
    },
    {
      "cell_type": "markdown",
      "metadata": {
        "id": "0yHZRhXgRdo9",
        "colab_type": "text"
      },
      "source": [
        "The Classification Report gives us more information on where our model is going wrong - looking specifically at the performance caused by Type I & II errors.  The following metrics are calculated as part of the classification report."
      ]
    },
    {
      "cell_type": "markdown",
      "metadata": {
        "id": "sekcECMbRdo-",
        "colab_type": "text"
      },
      "source": [
        "#### Precision\n",
        "\n",
        "When it predicts _yes_, how often is it correct? \n",
        "\n",
        "$$ Precision = \\frac{TP}{TP \\space + FP} = \\frac{TP}{Total \\space Predicted \\space Positive} $$"
      ]
    },
    {
      "cell_type": "markdown",
      "metadata": {
        "id": "Ytsix2OHRdo-",
        "colab_type": "text"
      },
      "source": [
        "#### Recall\n",
        "\n",
        "When the outcome is actually _yes_, how often do we predict it as such?\n",
        "\n",
        "$$ Recall = \\frac{TP}{TP \\space + FN} = \\frac{TP}{Total \\space Actual \\space Positive}$$"
      ]
    },
    {
      "cell_type": "markdown",
      "metadata": {
        "id": "SPd5MVmqRdo-",
        "colab_type": "text"
      },
      "source": [
        "#### F1 Score\n",
        "\n",
        "Weighted average of precision and recall. \n",
        "\n",
        "$$F_1 = 2 \\times \\frac {Precision \\space \\times \\space Recall }{Precision \\space + \\space Recall }$$"
      ]
    },
    {
      "cell_type": "markdown",
      "metadata": {
        "id": "CsDEsXNsRdo_",
        "colab_type": "text"
      },
      "source": [
        "F1 Score might be a better measure to use if we need to seek a balance between Precision and Recall _and_ there is an uneven class distribution (large number of 1s vs 0s or vice versa)."
      ]
    },
    {
      "cell_type": "markdown",
      "metadata": {
        "id": "KKauWFcjRdo_",
        "colab_type": "text"
      },
      "source": [
        "#### Classification Report in `sklearn`"
      ]
    },
    {
      "cell_type": "markdown",
      "metadata": {
        "id": "oBbTFrX4RdpA",
        "colab_type": "text"
      },
      "source": [
        "Let's import the `classification_report` object to check the results."
      ]
    },
    {
      "cell_type": "code",
      "metadata": {
        "id": "3NSoV0W5RdpA",
        "colab_type": "code",
        "colab": {}
      },
      "source": [
        "from sklearn.metrics import classification_report"
      ],
      "execution_count": 0,
      "outputs": []
    },
    {
      "cell_type": "markdown",
      "metadata": {
        "id": "sF-DwaQMRdpC",
        "colab_type": "text"
      },
      "source": [
        "Similarly to the confusion matrix, the classification matrix takes in two arguments: the unseen y_test data as well as our predictions."
      ]
    },
    {
      "cell_type": "code",
      "metadata": {
        "id": "pF_EGP6ERdpC",
        "colab_type": "code",
        "colab": {},
        "outputId": "0751976e-498f-4566-f192-8a2edf4e0b7c"
      },
      "source": [
        "print('Classification Report')\n",
        "print(classification_report(y_test, pred_lm, target_names=['0: Malignant', '1: Benign']))"
      ],
      "execution_count": 0,
      "outputs": [
        {
          "output_type": "stream",
          "text": [
            "Classification Report\n",
            "              precision    recall  f1-score   support\n",
            "\n",
            "0: Malignant       0.88      0.92      0.90        39\n",
            "   1: Benign       0.96      0.93      0.95        75\n",
            "\n",
            "    accuracy                           0.93       114\n",
            "   macro avg       0.92      0.93      0.92       114\n",
            "weighted avg       0.93      0.93      0.93       114\n",
            "\n"
          ],
          "name": "stdout"
        }
      ]
    },
    {
      "cell_type": "markdown",
      "metadata": {
        "id": "V1NAJEo2RdpE",
        "colab_type": "text"
      },
      "source": [
        "#### Interpretation\n",
        "\n",
        "We now have a far more comprehensive view of the performance of our model.\n",
        "\n",
        "- Clearly, the precision, recall and f1-score values for the benign class are higher, and this has to do with the class imbalance we referred to earlier in the tutorial. There are more observations with the benign label, so the model gets _better_ at classifiying those ones because it has more evidence of them.\n",
        "\n",
        "- The corresponding values in the malignant class are lower for the same reason.\n",
        "\n",
        "- The weighted f1-score here gives us a good indication using a single value of how well the model is performed. It is somewhere between the accuracies that the model achieved for each of class 0 and 1, but slightly in favour of class 1, of which there were more examples.\n",
        "\n",
        "- Perhaps the most important information in the above table is in the last row, indicating the weighted average. unlike the values in the `macro avg` row which are computed using: $\\frac{class\\_0\\_metric \\quad + \\quad class\\_1\\_metric}{2}$ , the `weighted avg` values are computed using: $\\frac{class\\_0\\_metric \\, \\times \\, \\%\\_class\\_0\\_labels  \\quad + \\quad class\\_1\\_metric \\, \\times \\, \\%\\_class\\_1\\_labels}{2}$ , which takes into account the proportions of each class fed into the model (as indicated in the support column)."
      ]
    },
    {
      "cell_type": "markdown",
      "metadata": {
        "id": "nr5V_owpRdpE",
        "colab_type": "text"
      },
      "source": [
        "## Conclusion\n",
        "\n",
        "In this tutorial we have seen or been introduced to:\n",
        "\n",
        "- Using the confusion matrix to assess the classifications from a binary classifier;\n",
        "- Understanding the four result categories a classification may fall into (TP, TN, etc);\n",
        "- Four metrics for assessing a classifier: accuracy, precision, recall, and F1-score;\n",
        "- The importance of ensuring good performance in _each class_, as opposed to just overall accuracy."
      ]
    }
  ]
}