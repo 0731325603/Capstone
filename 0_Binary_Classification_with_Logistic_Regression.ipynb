{
  "nbformat": 4,
  "nbformat_minor": 0,
  "metadata": {
    "kernelspec": {
      "display_name": "Python 3",
      "language": "python",
      "name": "python3"
    },
    "language_info": {
      "codemirror_mode": {
        "name": "ipython",
        "version": 3
      },
      "file_extension": ".py",
      "mimetype": "text/x-python",
      "name": "python",
      "nbconvert_exporter": "python",
      "pygments_lexer": "ipython3",
      "version": "3.6.8"
    },
    "colab": {
      "name": "0_Binary_Classification_with_Logistic_Regression.ipynb",
      "provenance": [],
      "include_colab_link": true
    }
  },
  "cells": [
    {
      "cell_type": "markdown",
      "metadata": {
        "id": "view-in-github",
        "colab_type": "text"
      },
      "source": [
        "<a href=\"https://colab.research.google.com/github/0731325603/Capstone/blob/master/0_Binary_Classification_with_Logistic_Regression.ipynb\" target=\"_parent\"><img src=\"https://colab.research.google.com/assets/colab-badge.svg\" alt=\"Open In Colab\"/></a>"
      ]
    },
    {
      "cell_type": "markdown",
      "metadata": {
        "id": "7hwyprw6QsbM",
        "colab_type": "text"
      },
      "source": [
        "# Introduction to Binary Classification with Logistic Regression\n",
        "\n",
        "© Explore Data Science Academy"
      ]
    },
    {
      "cell_type": "markdown",
      "metadata": {
        "id": "WmpXLF_jQsbN",
        "colab_type": "text"
      },
      "source": [
        "## Learning Objectives\n",
        "\n",
        "- Basic understanding of binary classification;\n",
        "- Understand logistic regression;\n",
        "- Know how to implement a logistic regression model in `sklearn`."
      ]
    },
    {
      "cell_type": "markdown",
      "metadata": {
        "id": "hLFLfUshQsbO",
        "colab_type": "text"
      },
      "source": [
        "## Outline\n",
        "\n",
        "Within the various sections of this Train we will:\n",
        "\n",
        "- Introduce binary classification;\n",
        "- Introduce logistic regression;\n",
        "- Implement a logistic regression model in `sklearn`."
      ]
    },
    {
      "cell_type": "markdown",
      "metadata": {
        "id": "qJwv9r1IQsbO",
        "colab_type": "text"
      },
      "source": [
        "## Binary Classification\n",
        "\n",
        "### Quantitative vs. qualitative variables\n",
        "\n",
        "During the sprint on regression we learned about a variety of ways which we can use to predict a response variable _Y_ when that response is quantitative, or numerical, in nature. The numerical variables we were predicting typically existed on a continuous scale, and as such we could fit things like a linear regression which, for increasing values of X, was appropriate for the increasing/decreasing values of Y. An example linear regression is shown below.\n",
        "\n",
        "<img src=\"https://raw.githubusercontent.com/Explore-AI/Pictures/master/sketch-linear-reg.png\" alt=\"sketch-linear-reg\" style=\"width: 400px;\"/>"
      ]
    },
    {
      "cell_type": "markdown",
      "metadata": {
        "id": "prPiTFwEQsbP",
        "colab_type": "text"
      },
      "source": [
        "In some cases, however, the response variable Y in our dataset will not be continuous - it will be categorical. The prediction task in this case is known as _classification,_ because we are trying to _classify_ into which category an observation belongs.\n",
        "\n",
        "The simplest version of this scenario is known as _binary classification_. Binary refers to the fact that there are two categories. It is normally intuitive to encode the two classes in a binary classification task as zeroes and ones.\n",
        "\n",
        "<img src=\"https://raw.githubusercontent.com/Explore-AI/Pictures/master/sketch-categorical-y.png\" alt=\"sketch-categorical-y\" style=\"width: 300px\"/>"
      ]
    },
    {
      "cell_type": "markdown",
      "metadata": {
        "id": "xoVkHQb2QsbP",
        "colab_type": "text"
      },
      "source": [
        "With our response variable encoded as zeroes and ones, we are able to plot some of the data points for a predictor variable X, and see the peculiar problem we are faced with: the response values lie along two distinct horizontal lines. What's more, they only ever take on values of 0 and 1! Clearly no good for a linear regression, which is only ever monotonically increasing or decreasing.\n",
        "\n",
        "Looking at the values for Y which lie along an example linear regression line, we can see that for very large X, we will be getting values for Y which are greater than 1, and as X decreases, we may even get negative Y values - far from the zeroes and ones we need.\n",
        "\n",
        "<img src=\"https://raw.githubusercontent.com/Explore-AI/Pictures/master/sketch-linear-classification.png\" alt=\"sketch-linear-classification\" style=\"width: 450px;\"/>"
      ]
    },
    {
      "cell_type": "markdown",
      "metadata": {
        "id": "yM94zQo5QsbQ",
        "colab_type": "text"
      },
      "source": [
        "## Logistic Regression"
      ]
    },
    {
      "cell_type": "markdown",
      "metadata": {
        "id": "xGwGziQSQsbQ",
        "colab_type": "text"
      },
      "source": [
        "The solution to this problem is known as logistic regression, so-called because it makes use of a common S-shaped curve known as the logistic function. This curve is commonly known as a _sigmoid_. It solves the problem for the following reasons:\n",
        "\n",
        "- It squeezes the range of output values to exist only between 0 and 1.\n",
        "- It has a point of inflection, which can be used to separate the feature space into two distinct areas (one for each class).\n",
        "- It has shallow gradients at both its top and bottom, which can be mapped to zeroes or ones respectively with little ambiguity.\n",
        "\n",
        "<img src=\"https://raw.githubusercontent.com/Explore-AI/Pictures/master/sketch-logistic-regression.png\" alt=\"sketch-logistic-regression\" style=\"width: 600px;\"/>\n",
        "\n",
        "The name is a little confusing because it contains the word _regression_. That's because we are effectively doing a linear regression, but then squeezing that linear regression vertically down into the S-shape sigmoid curve, so that it exists between 0 and 1. Rest assured - this is definitely a classification model."
      ]
    },
    {
      "cell_type": "markdown",
      "metadata": {
        "id": "HwCBv8ZHQsbR",
        "colab_type": "text"
      },
      "source": [
        "The logistic regression model produces output values for the response variable which again lie on the curve itself. However, unlike regression, where the output value was also the prediction value, in logistic regression the output value is a _probability_. The value along the curve (which, remember, is always between zero and one), is equal to the probability of the observation belonging to class 1 in our dataset."
      ]
    },
    {
      "cell_type": "markdown",
      "metadata": {
        "id": "Rncop8_DQsbR",
        "colab_type": "text"
      },
      "source": [
        "### The Logistic Function"
      ]
    },
    {
      "cell_type": "markdown",
      "metadata": {
        "id": "zWhtpfKFQsbS",
        "colab_type": "text"
      },
      "source": [
        "We now know that the output value of a logistic regression model refers to the probability that the observation in question belongs to class 1. The output values all fall between 0 and 1, which is all very well. But at what threshold value do we decide that a probability is too low to be assigned to class 1? Usually, we pick 0.5. That is:\n",
        "\n",
        "- Values greater than or equal to 0.5 are assigned to class 1; and\n",
        "- Values less than 0.5 are assigned to class 0.\n",
        "\n",
        "This output needs to hold for all values of X. In other words, regardless of the value of X, we need the output to be a value between 0 and 1. The function that takes care of all this is defined as follows:\n",
        "\n",
        "$$P(X) = \\displaystyle \\frac{e^{\\beta_0 + \\beta_1 X}}{1+e^{\\beta_0 + \\beta_1 X}}$$\n",
        "\n",
        "where $P(X)$ is the probability of X belonging to class 1, and $\\beta_0$ and $\\beta_1$ are the intercept and regression coefficient respectively, just like in a linear regression model. After a bit of manipulation we arrive at:\n",
        "\n",
        "\\begin{align}\n",
        "1 - P(X) &= \\displaystyle \\frac{1}{1+e^{\\beta_0 + \\beta_1 X}} \\\\\n",
        "\\therefore \\log \\left( \\frac{P(X)}{1-P(X)} \\right) &= {\\beta_0 + \\beta_1 X}\n",
        "\\end{align}\n",
        "\n",
        "The term on the left is known as the **log odds ratio**. Without the log sign in front of it, it is known simply as the odds ratio. While $P(X)$ is bounded between 0 and 1, the odds ratio is bounded between 0 and $\\infty$. \n",
        "\n",
        "_Note: if you're still having trouble understanding the concept of log odds ratios, please checkout videos in the additional links section._"
      ]
    },
    {
      "cell_type": "markdown",
      "metadata": {
        "id": "tyH0k41iQsbT",
        "colab_type": "text"
      },
      "source": [
        "### Multi-Class Classification\n",
        "\n",
        "There will clearly be cases when we have more than two categories in our labels column. Perhaps we are classifying the colour of cars into one of: `[red, green, blue]`.\n",
        "\n",
        "As we have seen, the logistic regression algorithm is effective for those situations with no more than two classes. There is, however, a neat way to combine logistic regression models for multi-class classification in what is known as the one-vs-rest approach (or OvR).\n",
        "\n",
        "In the OvR case, a separate logistic regression model is trained for each label that the response variable takes on. \n",
        "\n",
        "<img src=\"https://raw.githubusercontent.com/Explore-AI/Pictures/master/sketch-one-vs-rest.png\" alt=\"sketch-one-vs-rest\" style=\"width: 600px;\"/>\n",
        "\n",
        "Fortunately, `sklearn` makes it very simple to implement this multi-class extension of the logistic regression algorithm. We'll include a note on it in this train and the actual code for it later on in the course."
      ]
    },
    {
      "cell_type": "markdown",
      "metadata": {
        "id": "wsYcTpn8QsbT",
        "colab_type": "text"
      },
      "source": [
        "### Non-Linearly Separable Data Points\n",
        "\n",
        "One last thing to note here before we move onto implementation. Logistic regression models are effective only for those cases in which we have clearly linearly separable data. That is to say, a straight line or hyperplane can be placed somewhere amongst the datapoints that definitively separates them.\n",
        "\n",
        "<img src=\"https://raw.githubusercontent.com/Explore-AI/Pictures/master/sketch-non-separable.png\" alt=\"sketch-non-separable\" style=\"width: 600px;\"/>\n",
        "\n",
        "In those cases that our data is not linearly separable, we will need to try out other algorithms (perhaps linear discriminant analysis, or a support vector classifier). Later on in the course, we will explore many more models to carry out more complex classification tasks. Stay tuned!"
      ]
    },
    {
      "cell_type": "markdown",
      "metadata": {
        "id": "xAnbnWlVQsbU",
        "colab_type": "text"
      },
      "source": [
        "## Building a Logistic Regression Model\n",
        "\n",
        "In this tutorial we will build a classification model to predict whether the policyholder of some insurance product will claim from their insurance within the upcoming year."
      ]
    },
    {
      "cell_type": "code",
      "metadata": {
        "id": "rTzYnsB1QsbU",
        "colab_type": "code",
        "colab": {}
      },
      "source": [
        "import numpy as np\n",
        "import pandas as pd\n",
        "import matplotlib.pyplot as plt\n",
        "import seaborn as sns\n",
        "%matplotlib inline"
      ],
      "execution_count": 0,
      "outputs": []
    },
    {
      "cell_type": "code",
      "metadata": {
        "id": "V6GvtN-HQsbX",
        "colab_type": "code",
        "colab": {},
        "outputId": "6d8f0e15-64e1-44cd-a4b3-ca8ccc7e2b29"
      },
      "source": [
        "# Read data in and view first few entries\n",
        "df = pd.read_csv('https://raw.githubusercontent.com/Explore-AI/Public-Data/master/Data/classification_sprint/claims_data.csv')\n",
        "df.head()"
      ],
      "execution_count": 0,
      "outputs": [
        {
          "output_type": "execute_result",
          "data": {
            "text/html": [
              "<div>\n",
              "<style scoped>\n",
              "    .dataframe tbody tr th:only-of-type {\n",
              "        vertical-align: middle;\n",
              "    }\n",
              "\n",
              "    .dataframe tbody tr th {\n",
              "        vertical-align: top;\n",
              "    }\n",
              "\n",
              "    .dataframe thead th {\n",
              "        text-align: right;\n",
              "    }\n",
              "</style>\n",
              "<table border=\"1\" class=\"dataframe\">\n",
              "  <thead>\n",
              "    <tr style=\"text-align: right;\">\n",
              "      <th></th>\n",
              "      <th>age</th>\n",
              "      <th>sex</th>\n",
              "      <th>bmi</th>\n",
              "      <th>steps</th>\n",
              "      <th>children</th>\n",
              "      <th>smoker</th>\n",
              "      <th>region</th>\n",
              "      <th>insurance_claim</th>\n",
              "      <th>claim_amount</th>\n",
              "    </tr>\n",
              "  </thead>\n",
              "  <tbody>\n",
              "    <tr>\n",
              "      <th>0</th>\n",
              "      <td>19</td>\n",
              "      <td>female</td>\n",
              "      <td>27.900</td>\n",
              "      <td>3009</td>\n",
              "      <td>0</td>\n",
              "      <td>yes</td>\n",
              "      <td>southwest</td>\n",
              "      <td>yes</td>\n",
              "      <td>16884.9240</td>\n",
              "    </tr>\n",
              "    <tr>\n",
              "      <th>1</th>\n",
              "      <td>18</td>\n",
              "      <td>male</td>\n",
              "      <td>33.770</td>\n",
              "      <td>3008</td>\n",
              "      <td>1</td>\n",
              "      <td>no</td>\n",
              "      <td>southeast</td>\n",
              "      <td>yes</td>\n",
              "      <td>1725.5523</td>\n",
              "    </tr>\n",
              "    <tr>\n",
              "      <th>2</th>\n",
              "      <td>28</td>\n",
              "      <td>male</td>\n",
              "      <td>33.000</td>\n",
              "      <td>3009</td>\n",
              "      <td>3</td>\n",
              "      <td>no</td>\n",
              "      <td>southeast</td>\n",
              "      <td>no</td>\n",
              "      <td>0.0000</td>\n",
              "    </tr>\n",
              "    <tr>\n",
              "      <th>3</th>\n",
              "      <td>33</td>\n",
              "      <td>male</td>\n",
              "      <td>22.705</td>\n",
              "      <td>10009</td>\n",
              "      <td>0</td>\n",
              "      <td>no</td>\n",
              "      <td>northwest</td>\n",
              "      <td>no</td>\n",
              "      <td>0.0000</td>\n",
              "    </tr>\n",
              "    <tr>\n",
              "      <th>4</th>\n",
              "      <td>32</td>\n",
              "      <td>male</td>\n",
              "      <td>28.880</td>\n",
              "      <td>8010</td>\n",
              "      <td>0</td>\n",
              "      <td>no</td>\n",
              "      <td>northwest</td>\n",
              "      <td>yes</td>\n",
              "      <td>3866.8552</td>\n",
              "    </tr>\n",
              "  </tbody>\n",
              "</table>\n",
              "</div>"
            ],
            "text/plain": [
              "   age     sex     bmi  steps  children smoker     region insurance_claim  \\\n",
              "0   19  female  27.900   3009         0    yes  southwest             yes   \n",
              "1   18    male  33.770   3008         1     no  southeast             yes   \n",
              "2   28    male  33.000   3009         3     no  southeast              no   \n",
              "3   33    male  22.705  10009         0     no  northwest              no   \n",
              "4   32    male  28.880   8010         0     no  northwest             yes   \n",
              "\n",
              "   claim_amount  \n",
              "0    16884.9240  \n",
              "1     1725.5523  \n",
              "2        0.0000  \n",
              "3        0.0000  \n",
              "4     3866.8552  "
            ]
          },
          "metadata": {
            "tags": []
          },
          "execution_count": 23
        }
      ]
    },
    {
      "cell_type": "markdown",
      "metadata": {
        "id": "dDz5lNBEQsba",
        "colab_type": "text"
      },
      "source": [
        "### Pre-Processing"
      ]
    },
    {
      "cell_type": "markdown",
      "metadata": {
        "id": "z-aKhtomQsbb",
        "colab_type": "text"
      },
      "source": [
        "We will start by preparing the data to be used in the logistic regression algorithm. Recall that, just like in regression, this involves:\n",
        "\n",
        "- Splitting the data into features and labels;\n",
        "- Transforming the categorical features (create dummy variables);\n",
        "- Splitting the data into training and testing sets."
      ]
    },
    {
      "cell_type": "code",
      "metadata": {
        "id": "l3K-BekjQsbb",
        "colab_type": "code",
        "colab": {}
      },
      "source": [
        "# labels\n",
        "y = df['insurance_claim']\n",
        "\n",
        "# features\n",
        "X = df.drop('insurance_claim', axis=1)"
      ],
      "execution_count": 0,
      "outputs": []
    },
    {
      "cell_type": "code",
      "metadata": {
        "id": "dkx3RDKIQsbd",
        "colab_type": "code",
        "colab": {}
      },
      "source": [
        "# Transforming the Features\n",
        "X_transformed = pd.get_dummies(X, drop_first=True)"
      ],
      "execution_count": 0,
      "outputs": []
    },
    {
      "cell_type": "code",
      "metadata": {
        "id": "CzP8JW8AQsbg",
        "colab_type": "code",
        "colab": {}
      },
      "source": [
        "from sklearn.model_selection import train_test_split"
      ],
      "execution_count": 0,
      "outputs": []
    },
    {
      "cell_type": "code",
      "metadata": {
        "id": "ZgLKx4ceQsbj",
        "colab_type": "code",
        "colab": {}
      },
      "source": [
        "X_train, X_test, y_train, y_test = train_test_split(X_transformed, y, test_size=0.2, random_state=50)"
      ],
      "execution_count": 0,
      "outputs": []
    },
    {
      "cell_type": "markdown",
      "metadata": {
        "id": "9v72sWG1Qsbl",
        "colab_type": "text"
      },
      "source": [
        "Our data is now ready. Let's train the logistic regression model."
      ]
    },
    {
      "cell_type": "markdown",
      "metadata": {
        "id": "YI3Y61b3Qsbm",
        "colab_type": "text"
      },
      "source": [
        "### Training"
      ]
    },
    {
      "cell_type": "markdown",
      "metadata": {
        "id": "PtAonrN-Qsbm",
        "colab_type": "text"
      },
      "source": [
        "We need the LogisticRegression module from `sklearn.linear_model`."
      ]
    },
    {
      "cell_type": "code",
      "metadata": {
        "id": "F2bZ5xuLQsbn",
        "colab_type": "code",
        "colab": {}
      },
      "source": [
        "from sklearn.linear_model import LogisticRegression"
      ],
      "execution_count": 0,
      "outputs": []
    },
    {
      "cell_type": "markdown",
      "metadata": {
        "id": "5UofuS0WQsbq",
        "colab_type": "text"
      },
      "source": [
        "We create an instance of the `LogisticRegression()` object using the default parameters for now. In the following tutorial we'll look at varying one of the parameters in an attempt to improve model performance."
      ]
    },
    {
      "cell_type": "code",
      "metadata": {
        "id": "7VHXVu9VQsbq",
        "colab_type": "code",
        "colab": {}
      },
      "source": [
        "lr = LogisticRegression()"
      ],
      "execution_count": 0,
      "outputs": []
    },
    {
      "cell_type": "markdown",
      "metadata": {
        "id": "_BXigIn3Qsbt",
        "colab_type": "text"
      },
      "source": [
        "We use the `fit()` method to train the model.\n",
        "\n",
        "**Pro-tip**: in the multi-class case we referred to above, the `LogisticRegression` instance takes a simple argument which enables it to be used for 2+ classes: `multi_class='ovr'`. We'll revisit this later in the course."
      ]
    },
    {
      "cell_type": "code",
      "metadata": {
        "id": "r5UbYLxIQsbt",
        "colab_type": "code",
        "colab": {},
        "outputId": "9b221ee1-517c-442a-c7fc-85e4a2cecbb2"
      },
      "source": [
        "lr.fit(X_train, y_train)"
      ],
      "execution_count": 0,
      "outputs": [
        {
          "output_type": "execute_result",
          "data": {
            "text/plain": [
              "LogisticRegression(C=1.0, class_weight=None, dual=False, fit_intercept=True,\n",
              "                   intercept_scaling=1, l1_ratio=None, max_iter=100,\n",
              "                   multi_class='auto', n_jobs=None, penalty='l2',\n",
              "                   random_state=None, solver='lbfgs', tol=0.0001, verbose=0,\n",
              "                   warm_start=False)"
            ]
          },
          "metadata": {
            "tags": []
          },
          "execution_count": 30
        }
      ]
    },
    {
      "cell_type": "markdown",
      "metadata": {
        "id": "5dSPMAS5Qsbw",
        "colab_type": "text"
      },
      "source": [
        "Now that the model is trained, we can extract the parameters. The parameters consist of the intercept and the coefficients related to the features. These parameters can be used to predict future claims given the features."
      ]
    },
    {
      "cell_type": "markdown",
      "metadata": {
        "id": "VU7wqscVQsbw",
        "colab_type": "text"
      },
      "source": [
        "#### Intercept\n",
        "\n",
        "The interpretation of the parameters of the logistic model is not quite the same as for a linear regression model. \n",
        "\n",
        "In binary classification, the class with value 1 is known as the _reference class_. Let's explore.\n",
        "\n",
        "The intercept, $\\beta_0$, is interpreted as the **log odds** ratio of an observation being in the reference class when all other predictor variables are equal to zero.\n",
        "\n",
        "We can exponentiate this value, in other words raise the natural number $e$ to this value, to convert it to a typical **odds** ratio. In other words:\n",
        "\n",
        "$$Odds = e^{\\beta_0}$$"
      ]
    },
    {
      "cell_type": "code",
      "metadata": {
        "id": "mPTFG3bGQsbx",
        "colab_type": "code",
        "colab": {},
        "outputId": "17f7a2f1-7f7b-48b2-9a28-d4d1e5c8ef08"
      },
      "source": [
        "lr.intercept_[0]"
      ],
      "execution_count": 0,
      "outputs": [
        {
          "output_type": "execute_result",
          "data": {
            "text/plain": [
              "-9.641759022203591e-05"
            ]
          },
          "metadata": {
            "tags": []
          },
          "execution_count": 31
        }
      ]
    },
    {
      "cell_type": "markdown",
      "metadata": {
        "id": "OrpOcBDLQsbz",
        "colab_type": "text"
      },
      "source": [
        "#### Coefficients\n",
        "\n",
        "For binary categorical variables, like `smoker` and `sex`, the coefficient is interpreted as the **log odds** ratio between the class implied by a zero for the variable (i.e. non-smoker), and the class implied by a one for the variable (i.e. smoker).\n",
        "\n",
        "For continuous variables, the coefficient is interpreted as the expected change in the log odds for a one-unit increase in the variable.\n",
        "\n",
        "Again, we can arrive at the usual odds value by exponentiating the coefficient:\n",
        "\n",
        "$$Odds = e^{\\beta_1}$$\n",
        "\n",
        "Effectively, each coefficient is a measure of the change in the log odds of belonging to the reference class for one-unit changes in the variable."
      ]
    },
    {
      "cell_type": "code",
      "metadata": {
        "id": "hq6v5V5UQsbz",
        "colab_type": "code",
        "colab": {},
        "outputId": "4398439b-69a4-41e8-d129-c3c77d416ce2"
      },
      "source": [
        "coeff_df = pd.DataFrame(lr.coef_.T, X_transformed.columns, columns=['Coefficient'])\n",
        "coeff_df"
      ],
      "execution_count": 0,
      "outputs": [
        {
          "output_type": "execute_result",
          "data": {
            "text/html": [
              "<div>\n",
              "<style scoped>\n",
              "    .dataframe tbody tr th:only-of-type {\n",
              "        vertical-align: middle;\n",
              "    }\n",
              "\n",
              "    .dataframe tbody tr th {\n",
              "        vertical-align: top;\n",
              "    }\n",
              "\n",
              "    .dataframe thead th {\n",
              "        text-align: right;\n",
              "    }\n",
              "</style>\n",
              "<table border=\"1\" class=\"dataframe\">\n",
              "  <thead>\n",
              "    <tr style=\"text-align: right;\">\n",
              "      <th></th>\n",
              "      <th>Coefficient</th>\n",
              "    </tr>\n",
              "  </thead>\n",
              "  <tbody>\n",
              "    <tr>\n",
              "      <th>age</th>\n",
              "      <td>-0.002561</td>\n",
              "    </tr>\n",
              "    <tr>\n",
              "      <th>bmi</th>\n",
              "      <td>-0.001819</td>\n",
              "    </tr>\n",
              "    <tr>\n",
              "      <th>steps</th>\n",
              "      <td>-0.004556</td>\n",
              "    </tr>\n",
              "    <tr>\n",
              "      <th>children</th>\n",
              "      <td>-0.000208</td>\n",
              "    </tr>\n",
              "    <tr>\n",
              "      <th>claim_amount</th>\n",
              "      <td>0.038041</td>\n",
              "    </tr>\n",
              "    <tr>\n",
              "      <th>sex_male</th>\n",
              "      <td>-0.000007</td>\n",
              "    </tr>\n",
              "    <tr>\n",
              "      <th>smoker_yes</th>\n",
              "      <td>-0.000013</td>\n",
              "    </tr>\n",
              "    <tr>\n",
              "      <th>region_northwest</th>\n",
              "      <td>-0.000023</td>\n",
              "    </tr>\n",
              "    <tr>\n",
              "      <th>region_southeast</th>\n",
              "      <td>-0.000014</td>\n",
              "    </tr>\n",
              "    <tr>\n",
              "      <th>region_southwest</th>\n",
              "      <td>0.000005</td>\n",
              "    </tr>\n",
              "  </tbody>\n",
              "</table>\n",
              "</div>"
            ],
            "text/plain": [
              "                  Coefficient\n",
              "age                 -0.002561\n",
              "bmi                 -0.001819\n",
              "steps               -0.004556\n",
              "children            -0.000208\n",
              "claim_amount         0.038041\n",
              "sex_male            -0.000007\n",
              "smoker_yes          -0.000013\n",
              "region_northwest    -0.000023\n",
              "region_southeast    -0.000014\n",
              "region_southwest     0.000005"
            ]
          },
          "metadata": {
            "tags": []
          },
          "execution_count": 32
        }
      ]
    },
    {
      "cell_type": "markdown",
      "metadata": {
        "id": "LGVk9S9sQsb2",
        "colab_type": "text"
      },
      "source": [
        "In your own time: What can you infer from the coefficients above?"
      ]
    },
    {
      "cell_type": "markdown",
      "metadata": {
        "id": "bHlLGCT3Qsb2",
        "colab_type": "text"
      },
      "source": [
        "### Prediction Time\n",
        "\n",
        "As we did in Linear Regression, we use the `predict` method to obtain predictions from our test data observations."
      ]
    },
    {
      "cell_type": "code",
      "metadata": {
        "id": "abYze8j6Qsb2",
        "colab_type": "code",
        "colab": {}
      },
      "source": [
        "pred_lr = lr.predict(X_test)"
      ],
      "execution_count": 0,
      "outputs": []
    },
    {
      "cell_type": "markdown",
      "metadata": {
        "id": "Sz3t23SfQsb4",
        "colab_type": "text"
      },
      "source": [
        "Now that we have some predictions from our model, we are in a position to assess the performance of the model. In regression, we were concerned with _error rate_ , or the average closeness of our predictions to the ground truth values.\n",
        "\n",
        "In classification, we are concerned with _accuracy_ , or more broadly, how many of the observations did we correctly assign to the two classes, zero and one.\n",
        "\n",
        "The metrics and methods used to measure classification accuracy are extensive, and we'll dive into them in the next tutorial."
      ]
    },
    {
      "cell_type": "markdown",
      "metadata": {
        "id": "wIEzq9D4Qsb5",
        "colab_type": "text"
      },
      "source": [
        "## Advantages & Disadvantages of Logistic Regression"
      ]
    },
    {
      "cell_type": "markdown",
      "metadata": {
        "id": "plMMSLyXQsb5",
        "colab_type": "text"
      },
      "source": [
        "**Advantages**\n",
        "\n",
        "- Convenient probability scores for observations (probability of each outcome is transformed into a classification);\n",
        "- Not a major issue if there is collinearity among features (much worse with linear regression).\n",
        "\n",
        "**Disadvantages**\n",
        "\n",
        "- Can overfit when data is unbalanced (i.e.: we have far more observations in one class than the other);\n",
        "- Doesn't handle large number of categorical variables well."
      ]
    },
    {
      "cell_type": "markdown",
      "metadata": {
        "id": "RrdqZqJNQsb6",
        "colab_type": "text"
      },
      "source": [
        "## Conclusion\n",
        "\n",
        "In this tutorial we have seen or been introduced to:\n",
        "- Classification, and specifically binary (or two-class) classification;\n",
        "- Logistic regression, its similarities and differences compared to linear regression;\n",
        "- As well its effectiveness and simplicity in binary classification tasks."
      ]
    },
    {
      "cell_type": "markdown",
      "metadata": {
        "id": "6JmxTp_2Qsb6",
        "colab_type": "text"
      },
      "source": [
        "## Additional Links\n",
        "- [Statquest video on odds and log odds](https://www.youtube.com/watch?v=ARfXDSkQf1Y)\n",
        "- [Statquest video on odds and log odds ratios](https://www.youtube.com/watch?v=8nm0G-1uJzA)"
      ]
    }
  ]
}